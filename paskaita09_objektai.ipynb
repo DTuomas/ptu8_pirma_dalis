{
 "cells": [
  {
   "cell_type": "code",
   "execution_count": 118,
   "metadata": {},
   "outputs": [],
   "source": [
    "class Kate:\n",
    "    vardas = \"\"\n",
    "    spalva = \"\"\n",
    "    kojos = 0\n",
    "    amzius = 0\n",
    "\n",
    "    def __init__(self, vardas, spalva=\"juoda\", kojos=4):\n",
    "        self.vardas = vardas\n",
    "        self.spalva = spalva\n",
    "        self.kojos = kojos\n",
    "        self.amzius = 0\n",
    "\n",
    "    def miaukseti(self):\n",
    "        print(\"miau\")\n",
    "\n",
    "    def _judinti_kojas(self, kaip=\"\"):\n",
    "        return kaip\n",
    "\n",
    "    def _ziureti(self, kur=\"tiesiai\"):\n",
    "        return kur\n",
    "\n",
    "    def begti(self, kryptis=\"tiesiai\", judesys=\"\"):\n",
    "        kaip = self._judinti_kojas(judesys)\n",
    "        kur = self._ziureti(kryptis)\n",
    "        if kaip:\n",
    "            print(f\"begu {kaip} {kur}\")\n",
    "        else:\n",
    "            print(f\"begu {kur}\")\n",
    "\n",
    "    def susilauzyti_koja(self, kiek=1):\n",
    "        self.kojos -= kiek\n",
    "\n",
    "    def sugydyti_koja(self, kiek=1):\n",
    "        self.kojos += kiek\n",
    "\n",
    "    def __str__(self) -> str:\n",
    "        return f\"vardas: {self.vardas}, spalva: {self.spalva}, kojos: {self.kojos}, amzius: {self.amzius}\"\n",
    "\n",
    "    def __repr__(self) -> str:\n",
    "        return f\"({self.vardas}, {self.spalva}, {self.kojos})\"\n"
   ]
  },
  {
   "cell_type": "code",
   "execution_count": 105,
   "metadata": {},
   "outputs": [
    {
     "name": "stdout",
     "output_type": "stream",
     "text": [
      "vardas: Miauklius, spalva: juoda, kojos: 4, amzius: 0\n",
      "incidentas: 0\n",
      "vardas: Miauklius, spalva: juoda, kojos: 3, amzius: 5\n",
      "incidentas: 1\n",
      "vardas: Miauklius, spalva: juoda, kojos: 2, amzius: 5\n",
      "incidentas: 2\n",
      "vardas: Miauklius, spalva: juoda, kojos: 1, amzius: 5\n",
      "incidentas: 3\n",
      "vardas: Miauklius, spalva: juoda, kojos: 0, amzius: 5\n",
      "vardas: Miauklius, spalva: juoda, kojos: 3, amzius: 5\n",
      "miau\n",
      "begu tiesiai\n",
      "begu i kaire\n",
      "begu shuoliais ant lovos\n",
      "i dangu, ir i dar viena skanu kavos puodeli\n"
     ]
    }
   ],
   "source": [
    "miauklius = Kate(\"Miauklius\")\n",
    "print(miauklius)\n",
    "miauklius.amzius = 5\n",
    "for incidentas in range(4):\n",
    "    print(f\"incidentas: {incidentas}\")\n",
    "    miauklius.susilauzyti_koja()\n",
    "    print(miauklius)\n",
    "miauklius.sugydyti_koja(3)\n",
    "print(miauklius)\n",
    "miauklius.miaukseti()\n",
    "miauklius.begti()\n",
    "miauklius.begti(\"i kaire\")\n",
    "miauklius.begti(\"ant lovos\", \"shuoliais\")\n",
    "print(miauklius._ziureti(\"i dangu, ir i dar viena skanu kavos puodeli\"))"
   ]
  },
  {
   "cell_type": "code",
   "execution_count": 20,
   "metadata": {},
   "outputs": [
    {
     "name": "stdout",
     "output_type": "stream",
     "text": [
      "Rudas 4\n"
     ]
    }
   ],
   "source": [
    "rudis = Kate()\n",
    "rudis.spalva = \"Rudas\"\n",
    "print(rudis.spalva, rudis.kojos)"
   ]
  },
  {
   "cell_type": "code",
   "execution_count": 26,
   "metadata": {},
   "outputs": [
    {
     "name": "stdout",
     "output_type": "stream",
     "text": [
      "pilkas 4\n",
      "miau\n"
     ]
    }
   ],
   "source": [
    "pilkis = Kate(\"pilkas\", 4)\n",
    "print(pilkis.spalva, pilkis.kojos)\n",
    "pilkis.miaukseti()"
   ]
  },
  {
   "cell_type": "code",
   "execution_count": 22,
   "metadata": {},
   "outputs": [
    {
     "data": {
      "text/plain": [
       "__main__.Kate"
      ]
     },
     "execution_count": 22,
     "metadata": {},
     "output_type": "execute_result"
    }
   ],
   "source": [
    "type(pilkis)"
   ]
  },
  {
   "cell_type": "code",
   "execution_count": 29,
   "metadata": {},
   "outputs": [
    {
     "data": {
      "text/plain": [
       "datetime.date"
      ]
     },
     "execution_count": 29,
     "metadata": {},
     "output_type": "execute_result"
    }
   ],
   "source": [
    "from datetime import date\n",
    "dabar = date.today()\n",
    "type(dabar)"
   ]
  },
  {
   "cell_type": "code",
   "execution_count": 107,
   "metadata": {},
   "outputs": [
    {
     "name": "stdout",
     "output_type": "stream",
     "text": [
      "<class 'str'>\n",
      "0x7f9984203c10\n",
      "['labas', 'rytas', 'Studentai']\n",
      "LABAS RYTAS STUDENTAI\n"
     ]
    }
   ],
   "source": [
    "pasisveikinimas = \"labas rytas Studentai\"\n",
    "print(type(pasisveikinimas))\n",
    "print(hex(id(pasisveikinimas)))\n",
    "print(pasisveikinimas.split())\n",
    "print(pasisveikinimas.upper())"
   ]
  },
  {
   "cell_type": "code",
   "execution_count": 109,
   "metadata": {},
   "outputs": [
    {
     "data": {
      "text/plain": [
       "'777'"
      ]
     },
     "execution_count": 109,
     "metadata": {},
     "output_type": "execute_result"
    }
   ],
   "source": [
    "skaicius = 777\n",
    "tekstas = str(skaicius)\n",
    "tekstas"
   ]
  },
  {
   "cell_type": "code",
   "execution_count": 119,
   "metadata": {},
   "outputs": [],
   "source": [
    "kates = []"
   ]
  },
  {
   "cell_type": "code",
   "execution_count": 120,
   "metadata": {},
   "outputs": [],
   "source": [
    "kates.append(Kate(\"Pirma\"))"
   ]
  },
  {
   "cell_type": "code",
   "execution_count": 121,
   "metadata": {},
   "outputs": [],
   "source": [
    "kates.append(Kate(\"Pilke\", \"pilka\"))"
   ]
  },
  {
   "cell_type": "code",
   "execution_count": 122,
   "metadata": {},
   "outputs": [],
   "source": [
    "kates.append(Kate(\"Kiauras\", \"permatoma\", 19))"
   ]
  },
  {
   "cell_type": "code",
   "execution_count": 123,
   "metadata": {},
   "outputs": [
    {
     "name": "stdout",
     "output_type": "stream",
     "text": [
      "vardas: Pirma, spalva: juoda, kojos: 4, amzius: 0\n",
      "vardas: Pilke, spalva: pilka, kojos: 4, amzius: 0\n",
      "vardas: Kiauras, spalva: permatoma, kojos: 19, amzius: 0\n"
     ]
    }
   ],
   "source": [
    "for kate in kates:\n",
    "    print(kate)"
   ]
  },
  {
   "cell_type": "code",
   "execution_count": 124,
   "metadata": {},
   "outputs": [
    {
     "name": "stdout",
     "output_type": "stream",
     "text": [
      "[(Pirma, juoda, 4), (Pilke, pilka, 4), (Kiauras, permatoma, 19)]\n"
     ]
    }
   ],
   "source": [
    "print(kates)"
   ]
  },
  {
   "cell_type": "code",
   "execution_count": 126,
   "metadata": {},
   "outputs": [
    {
     "data": {
      "text/plain": [
       "(Kiauras, permatoma, 19)"
      ]
     },
     "execution_count": 126,
     "metadata": {},
     "output_type": "execute_result"
    }
   ],
   "source": [
    "kates[-1]"
   ]
  }
 ],
 "metadata": {
  "kernelspec": {
   "display_name": "venv",
   "language": "python",
   "name": "python3"
  },
  "language_info": {
   "codemirror_mode": {
    "name": "ipython",
    "version": 3
   },
   "file_extension": ".py",
   "mimetype": "text/x-python",
   "name": "python",
   "nbconvert_exporter": "python",
   "pygments_lexer": "ipython3",
   "version": "3.8.10 (default, Nov 14 2022, 12:59:47) \n[GCC 9.4.0]"
  },
  "orig_nbformat": 4,
  "vscode": {
   "interpreter": {
    "hash": "ae5517e200323c4e27d154c1fe0c18d79d70ea03233d618e57037785ffe1e95e"
   }
  }
 },
 "nbformat": 4,
 "nbformat_minor": 2
}
