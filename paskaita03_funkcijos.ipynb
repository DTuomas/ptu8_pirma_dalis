{
 "cells": [
  {
   "attachments": {},
   "cell_type": "markdown",
   "metadata": {},
   "source": [
    "# Funkcijos"
   ]
  },
  {
   "attachments": {},
   "cell_type": "markdown",
   "metadata": {},
   "source": [
    "## intro"
   ]
  },
  {
   "cell_type": "code",
   "execution_count": 1,
   "metadata": {},
   "outputs": [],
   "source": [
    "def pasisveikinti():\n",
    "    print(\"Labas!\")"
   ]
  },
  {
   "cell_type": "code",
   "execution_count": 3,
   "metadata": {},
   "outputs": [
    {
     "name": "stdout",
     "output_type": "stream",
     "text": [
      "Labas!\n",
      "Labas!\n",
      "Labas!\n"
     ]
    }
   ],
   "source": [
    "pasisveikinti()\n",
    "pasisveikinti()\n",
    "pasisveikinti()"
   ]
  },
  {
   "cell_type": "code",
   "execution_count": 4,
   "metadata": {},
   "outputs": [],
   "source": [
    "def vardinis_pasisveikinimas(vardas):\n",
    "    print(f\"Sveikas {vardas}!\")"
   ]
  },
  {
   "cell_type": "code",
   "execution_count": 5,
   "metadata": {},
   "outputs": [
    {
     "name": "stdout",
     "output_type": "stream",
     "text": [
      "Sveikas Kestas!\n"
     ]
    }
   ],
   "source": [
    "vardinis_pasisveikinimas(\"Kestas\")"
   ]
  },
  {
   "cell_type": "code",
   "execution_count": 6,
   "metadata": {},
   "outputs": [
    {
     "name": "stdout",
     "output_type": "stream",
     "text": [
      "Sveikas Studentas!\n"
     ]
    }
   ],
   "source": [
    "vardinis_pasisveikinimas(\"Studentas\")"
   ]
  },
  {
   "cell_type": "code",
   "execution_count": 7,
   "metadata": {},
   "outputs": [
    {
     "name": "stdout",
     "output_type": "stream",
     "text": [
      "Sveikas Geras!\n"
     ]
    }
   ],
   "source": [
    "vardinis_pasisveikinimas(input(\"Koks tavo vardas?:\"))"
   ]
  },
  {
   "cell_type": "code",
   "execution_count": 8,
   "metadata": {},
   "outputs": [
    {
     "name": "stdout",
     "output_type": "stream",
     "text": [
      "Sveikas Zalias!\n"
     ]
    }
   ],
   "source": [
    "studentas = \"Zalias\"\n",
    "vardinis_pasisveikinimas(studentas)"
   ]
  },
  {
   "attachments": {},
   "cell_type": "markdown",
   "metadata": {},
   "source": [
    "## matematinės"
   ]
  },
  {
   "cell_type": "code",
   "execution_count": 11,
   "metadata": {},
   "outputs": [
    {
     "data": {
      "text/plain": [
       "25"
      ]
     },
     "execution_count": 11,
     "metadata": {},
     "output_type": "execute_result"
    }
   ],
   "source": [
    "def kvadratu(skaicius):\n",
    "    return skaicius ** 2\n",
    "\n",
    "kvadratu(5)"
   ]
  },
  {
   "cell_type": "code",
   "execution_count": 12,
   "metadata": {},
   "outputs": [
    {
     "data": {
      "text/plain": [
       "121"
      ]
     },
     "execution_count": 12,
     "metadata": {},
     "output_type": "execute_result"
    }
   ],
   "source": [
    "pakeltas_skaicius = kvadratu(11)\n",
    "pakeltas_skaicius"
   ]
  },
  {
   "cell_type": "code",
   "execution_count": 13,
   "metadata": {},
   "outputs": [
    {
     "data": {
      "text/plain": [
       "14641"
      ]
     },
     "execution_count": 13,
     "metadata": {},
     "output_type": "execute_result"
    }
   ],
   "source": [
    "kvadratu(pakeltas_skaicius)"
   ]
  },
  {
   "cell_type": "code",
   "execution_count": 14,
   "metadata": {},
   "outputs": [
    {
     "data": {
      "text/plain": [
       "5"
      ]
     },
     "execution_count": 14,
     "metadata": {},
     "output_type": "execute_result"
    }
   ],
   "source": [
    "kvadratu(3) - kvadratu(2)"
   ]
  },
  {
   "cell_type": "code",
   "execution_count": 15,
   "metadata": {},
   "outputs": [],
   "source": [
    "def laipsniu(skaicius, laipsnis):\n",
    "    return skaicius ** laipsnis"
   ]
  },
  {
   "cell_type": "code",
   "execution_count": 16,
   "metadata": {},
   "outputs": [
    {
     "data": {
      "text/plain": [
       "27"
      ]
     },
     "execution_count": 16,
     "metadata": {},
     "output_type": "execute_result"
    }
   ],
   "source": [
    "laipsniu(3, 3)"
   ]
  },
  {
   "cell_type": "code",
   "execution_count": 22,
   "metadata": {},
   "outputs": [],
   "source": [
    "def daug_kvadratu(*args):\n",
    "    for argas in args:\n",
    "        print(argas ** 2)"
   ]
  },
  {
   "cell_type": "code",
   "execution_count": 23,
   "metadata": {},
   "outputs": [
    {
     "name": "stdout",
     "output_type": "stream",
     "text": [
      "25\n",
      "9\n",
      "1\n",
      "49\n",
      "324\n",
      "121\n",
      "576\n",
      "1764\n",
      "1089\n"
     ]
    }
   ],
   "source": [
    "daug_kvadratu(5, 3, 1, 7, 18, 11, 24, 42, 33)"
   ]
  },
  {
   "attachments": {},
   "cell_type": "markdown",
   "metadata": {},
   "source": [
    "## args/kwargs"
   ]
  },
  {
   "cell_type": "code",
   "execution_count": 28,
   "metadata": {},
   "outputs": [],
   "source": [
    "def sumuojam(*skaiciai):\n",
    "    suma = 0\n",
    "    for skaicius in skaiciai:\n",
    "        suma += skaicius\n",
    "    return suma\n"
   ]
  },
  {
   "cell_type": "code",
   "execution_count": 32,
   "metadata": {},
   "outputs": [
    {
     "data": {
      "text/plain": [
       "-15"
      ]
     },
     "execution_count": 32,
     "metadata": {},
     "output_type": "execute_result"
    }
   ],
   "source": [
    "sumuojam(2, 3, 5, 2, 3, 4, -7, 42, -69)"
   ]
  },
  {
   "cell_type": "code",
   "execution_count": 30,
   "metadata": {},
   "outputs": [
    {
     "data": {
      "text/plain": [
       "0"
      ]
     },
     "execution_count": 30,
     "metadata": {},
     "output_type": "execute_result"
    }
   ],
   "source": [
    "sumuojam(-1, 0, 1)"
   ]
  },
  {
   "cell_type": "code",
   "execution_count": 34,
   "metadata": {},
   "outputs": [],
   "source": [
    "def darbuotojas(**kwargs):\n",
    "    for savybe, reiksme in kwargs.items():\n",
    "        print(f\"{savybe}: {reiksme}\")"
   ]
  },
  {
   "cell_type": "code",
   "execution_count": 36,
   "metadata": {},
   "outputs": [
    {
     "name": "stdout",
     "output_type": "stream",
     "text": [
      "vardas: Kestutis\n",
      "pavarde: Januskevicius\n",
      "amzius: 39\n",
      "pareigos: dėstytojas\n"
     ]
    }
   ],
   "source": [
    "darbuotojas(vardas=\"Kestutis\", pavarde=\"Januskevicius\", amzius=39, pareigos=\"dėstytojas\")"
   ]
  },
  {
   "cell_type": "code",
   "execution_count": 37,
   "metadata": {},
   "outputs": [],
   "source": [
    "def zmogus(vardas, pavarde, amzius=0, **kwargs):\n",
    "    print(f\"vardas: {vardas}\")\n",
    "    print(f\"pavarde: {pavarde}\")\n",
    "    if amzius > 0:\n",
    "        print(f\"amzius: {amzius}\")\n",
    "    for savybe, reiksme in kwargs.items():\n",
    "        print(f\"{savybe}: {reiksme}\")\n"
   ]
  },
  {
   "cell_type": "code",
   "execution_count": 38,
   "metadata": {},
   "outputs": [
    {
     "name": "stdout",
     "output_type": "stream",
     "text": [
      "vardas: Geras\n",
      "pavarde: Studentas\n",
      "amzius: 25\n",
      "lytis: vyras\n",
      "hobis: skraidyti\n"
     ]
    }
   ],
   "source": [
    "zmogus(\"Geras\", \"Studentas\", 25, lytis=\"vyras\", hobis=\"skraidyti\")"
   ]
  },
  {
   "cell_type": "code",
   "execution_count": 39,
   "metadata": {},
   "outputs": [
    {
     "name": "stdout",
     "output_type": "stream",
     "text": [
      "vardas: Gera\n",
      "pavarde: Studente\n",
      "lytis: moteris\n",
      "hobis: svajoti\n"
     ]
    }
   ],
   "source": [
    "zmogus(\"Gera\", \"Studente\", lytis=\"moteris\", hobis=\"svajoti\")"
   ]
  },
  {
   "attachments": {},
   "cell_type": "markdown",
   "metadata": {},
   "source": [
    "## uzduotis 1.2"
   ]
  },
  {
   "cell_type": "code",
   "execution_count": 40,
   "metadata": {},
   "outputs": [],
   "source": [
    "def saraso_suma(sarasas):\n",
    "    suma = 0\n",
    "    for skaicius in sarasas:\n",
    "        suma += skaicius\n",
    "    return suma"
   ]
  },
  {
   "cell_type": "code",
   "execution_count": 41,
   "metadata": {},
   "outputs": [
    {
     "data": {
      "text/plain": [
       "6"
      ]
     },
     "execution_count": 41,
     "metadata": {},
     "output_type": "execute_result"
    }
   ],
   "source": [
    "sarasasiukas = [3, 2, 1]\n",
    "saraso_suma(sarasasiukas)"
   ]
  },
  {
   "cell_type": "code",
   "execution_count": 42,
   "metadata": {},
   "outputs": [
    {
     "data": {
      "text/plain": [
       "10"
      ]
     },
     "execution_count": 42,
     "metadata": {},
     "output_type": "execute_result"
    }
   ],
   "source": [
    "saraso_suma([3, 2, 5])"
   ]
  },
  {
   "cell_type": "code",
   "execution_count": 45,
   "metadata": {},
   "outputs": [],
   "source": [
    "def saraso_suma(*sarasas):\n",
    "    suma = 0\n",
    "    for skaicius in sarasas:\n",
    "        suma += skaicius\n",
    "    return suma"
   ]
  },
  {
   "cell_type": "code",
   "execution_count": 44,
   "metadata": {},
   "outputs": [
    {
     "data": {
      "text/plain": [
       "10"
      ]
     },
     "execution_count": 44,
     "metadata": {},
     "output_type": "execute_result"
    }
   ],
   "source": [
    "saraso_suma(3, 2, 5)"
   ]
  }
 ],
 "metadata": {
  "kernelspec": {
   "display_name": "venv",
   "language": "python",
   "name": "python3"
  },
  "language_info": {
   "codemirror_mode": {
    "name": "ipython",
    "version": 3
   },
   "file_extension": ".py",
   "mimetype": "text/x-python",
   "name": "python",
   "nbconvert_exporter": "python",
   "pygments_lexer": "ipython3",
   "version": "3.8.10 (default, Nov 14 2022, 12:59:47) \n[GCC 9.4.0]"
  },
  "orig_nbformat": 4,
  "vscode": {
   "interpreter": {
    "hash": "ae5517e200323c4e27d154c1fe0c18d79d70ea03233d618e57037785ffe1e95e"
   }
  }
 },
 "nbformat": 4,
 "nbformat_minor": 2
}
