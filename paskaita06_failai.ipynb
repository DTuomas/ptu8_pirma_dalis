{
 "cells": [
  {
   "attachments": {},
   "cell_type": "markdown",
   "metadata": {},
   "source": [
    "# OS modulis, darbas su katalogais ir failais"
   ]
  },
  {
   "cell_type": "code",
   "execution_count": 1,
   "metadata": {},
   "outputs": [],
   "source": [
    "import os"
   ]
  },
  {
   "cell_type": "code",
   "execution_count": 2,
   "metadata": {},
   "outputs": [
    {
     "name": "stdout",
     "output_type": "stream",
     "text": [
      "['CLD_CONTINUED', 'CLD_DUMPED', 'CLD_EXITED', 'CLD_TRAPPED', 'DirEntry', 'EX_CANTCREAT', 'EX_CONFIG', 'EX_DATAERR', 'EX_IOERR', 'EX_NOHOST', 'EX_NOINPUT', 'EX_NOPERM', 'EX_NOUSER', 'EX_OK', 'EX_OSERR', 'EX_OSFILE', 'EX_PROTOCOL', 'EX_SOFTWARE', 'EX_TEMPFAIL', 'EX_UNAVAILABLE', 'EX_USAGE', 'F_LOCK', 'F_OK', 'F_TEST', 'F_TLOCK', 'F_ULOCK', 'GRND_NONBLOCK', 'GRND_RANDOM', 'MFD_ALLOW_SEALING', 'MFD_CLOEXEC', 'MFD_HUGETLB', 'MFD_HUGE_16GB', 'MFD_HUGE_16MB', 'MFD_HUGE_1GB', 'MFD_HUGE_1MB', 'MFD_HUGE_256MB', 'MFD_HUGE_2GB', 'MFD_HUGE_2MB', 'MFD_HUGE_32MB', 'MFD_HUGE_512KB', 'MFD_HUGE_512MB', 'MFD_HUGE_64KB', 'MFD_HUGE_8MB', 'MFD_HUGE_MASK', 'MFD_HUGE_SHIFT', 'MutableMapping', 'NGROUPS_MAX', 'O_ACCMODE', 'O_APPEND', 'O_ASYNC', 'O_CLOEXEC', 'O_CREAT', 'O_DIRECT', 'O_DIRECTORY', 'O_DSYNC', 'O_EXCL', 'O_LARGEFILE', 'O_NDELAY', 'O_NOATIME', 'O_NOCTTY', 'O_NOFOLLOW', 'O_NONBLOCK', 'O_PATH', 'O_RDONLY', 'O_RDWR', 'O_RSYNC', 'O_SYNC', 'O_TMPFILE', 'O_TRUNC', 'O_WRONLY', 'POSIX_FADV_DONTNEED', 'POSIX_FADV_NOREUSE', 'POSIX_FADV_NORMAL', 'POSIX_FADV_RANDOM', 'POSIX_FADV_SEQUENTIAL', 'POSIX_FADV_WILLNEED', 'POSIX_SPAWN_CLOSE', 'POSIX_SPAWN_DUP2', 'POSIX_SPAWN_OPEN', 'PRIO_PGRP', 'PRIO_PROCESS', 'PRIO_USER', 'P_ALL', 'P_NOWAIT', 'P_NOWAITO', 'P_PGID', 'P_PID', 'P_WAIT', 'PathLike', 'RTLD_DEEPBIND', 'RTLD_GLOBAL', 'RTLD_LAZY', 'RTLD_LOCAL', 'RTLD_NODELETE', 'RTLD_NOLOAD', 'RTLD_NOW', 'RWF_DSYNC', 'RWF_HIPRI', 'RWF_NOWAIT', 'RWF_SYNC', 'R_OK', 'SCHED_BATCH', 'SCHED_FIFO', 'SCHED_IDLE', 'SCHED_OTHER', 'SCHED_RESET_ON_FORK', 'SCHED_RR', 'SEEK_CUR', 'SEEK_DATA', 'SEEK_END', 'SEEK_HOLE', 'SEEK_SET', 'ST_APPEND', 'ST_MANDLOCK', 'ST_NOATIME', 'ST_NODEV', 'ST_NODIRATIME', 'ST_NOEXEC', 'ST_NOSUID', 'ST_RDONLY', 'ST_RELATIME', 'ST_SYNCHRONOUS', 'ST_WRITE', 'TMP_MAX', 'WCONTINUED', 'WCOREDUMP', 'WEXITED', 'WEXITSTATUS', 'WIFCONTINUED', 'WIFEXITED', 'WIFSIGNALED', 'WIFSTOPPED', 'WNOHANG', 'WNOWAIT', 'WSTOPPED', 'WSTOPSIG', 'WTERMSIG', 'WUNTRACED', 'W_OK', 'XATTR_CREATE', 'XATTR_REPLACE', 'XATTR_SIZE_MAX', 'X_OK', '_Environ', '__all__', '__builtins__', '__cached__', '__doc__', '__file__', '__loader__', '__name__', '__package__', '__spec__', '_check_methods', '_execvpe', '_exists', '_exit', '_fspath', '_fwalk', '_get_exports_list', '_putenv', '_spawnvef', '_unsetenv', '_wrap_close', 'abc', 'abort', 'access', 'altsep', 'chdir', 'chmod', 'chown', 'chroot', 'close', 'closerange', 'confstr', 'confstr_names', 'copy_file_range', 'cpu_count', 'ctermid', 'curdir', 'defpath', 'device_encoding', 'devnull', 'dup', 'dup2', 'environ', 'environb', 'error', 'execl', 'execle', 'execlp', 'execlpe', 'execv', 'execve', 'execvp', 'execvpe', 'extsep', 'fchdir', 'fchmod', 'fchown', 'fdatasync', 'fdopen', 'fork', 'forkpty', 'fpathconf', 'fsdecode', 'fsencode', 'fspath', 'fstat', 'fstatvfs', 'fsync', 'ftruncate', 'fwalk', 'get_blocking', 'get_exec_path', 'get_inheritable', 'get_terminal_size', 'getcwd', 'getcwdb', 'getegid', 'getenv', 'getenvb', 'geteuid', 'getgid', 'getgrouplist', 'getgroups', 'getloadavg', 'getlogin', 'getpgid', 'getpgrp', 'getpid', 'getppid', 'getpriority', 'getrandom', 'getresgid', 'getresuid', 'getsid', 'getuid', 'getxattr', 'initgroups', 'isatty', 'kill', 'killpg', 'lchown', 'linesep', 'link', 'listdir', 'listxattr', 'lockf', 'lseek', 'lstat', 'major', 'makedev', 'makedirs', 'memfd_create', 'minor', 'mkdir', 'mkfifo', 'mknod', 'name', 'nice', 'open', 'openpty', 'pardir', 'path', 'pathconf', 'pathconf_names', 'pathsep', 'pipe', 'pipe2', 'popen', 'posix_fadvise', 'posix_fallocate', 'posix_spawn', 'posix_spawnp', 'pread', 'preadv', 'putenv', 'pwrite', 'pwritev', 'read', 'readlink', 'readv', 'register_at_fork', 'remove', 'removedirs', 'removexattr', 'rename', 'renames', 'replace', 'rmdir', 'scandir', 'sched_get_priority_max', 'sched_get_priority_min', 'sched_getaffinity', 'sched_getparam', 'sched_getscheduler', 'sched_param', 'sched_rr_get_interval', 'sched_setaffinity', 'sched_setparam', 'sched_setscheduler', 'sched_yield', 'sendfile', 'sep', 'set_blocking', 'set_inheritable', 'setegid', 'seteuid', 'setgid', 'setgroups', 'setpgid', 'setpgrp', 'setpriority', 'setregid', 'setresgid', 'setresuid', 'setreuid', 'setsid', 'setuid', 'setxattr', 'spawnl', 'spawnle', 'spawnlp', 'spawnlpe', 'spawnv', 'spawnve', 'spawnvp', 'spawnvpe', 'st', 'stat', 'stat_result', 'statvfs', 'statvfs_result', 'strerror', 'supports_bytes_environ', 'supports_dir_fd', 'supports_effective_ids', 'supports_fd', 'supports_follow_symlinks', 'symlink', 'sync', 'sys', 'sysconf', 'sysconf_names', 'system', 'tcgetpgrp', 'tcsetpgrp', 'terminal_size', 'times', 'times_result', 'truncate', 'ttyname', 'umask', 'uname', 'uname_result', 'unlink', 'unsetenv', 'urandom', 'utime', 'wait', 'wait3', 'wait4', 'waitid', 'waitid_result', 'waitpid', 'walk', 'write', 'writev']\n"
     ]
    }
   ],
   "source": [
    "print(dir(os))"
   ]
  },
  {
   "cell_type": "code",
   "execution_count": 3,
   "metadata": {},
   "outputs": [
    {
     "name": "stdout",
     "output_type": "stream",
     "text": [
      "/home/kestas/codeacademy/ptu8/ptu8_pirma_dalis\n"
     ]
    }
   ],
   "source": [
    "print(os.getcwd())"
   ]
  },
  {
   "cell_type": "code",
   "execution_count": 10,
   "metadata": {},
   "outputs": [
    {
     "name": "stdout",
     "output_type": "stream",
     "text": [
      "bazinis katalogas: /home/kestas/codeacademy/ptu8/ptu8_pirma_dalis\n"
     ]
    }
   ],
   "source": [
    "BASEDIR = os.getcwd()\n",
    "print(f\"bazinis katalogas: {BASEDIR}\")\n",
    "# print(f\"programos failas: {__file__}\") # neveikia jupyteryje, tik .py programoje"
   ]
  },
  {
   "cell_type": "code",
   "execution_count": 12,
   "metadata": {},
   "outputs": [
    {
     "name": "stdout",
     "output_type": "stream",
     "text": [
      "/home/kestas/codeacademy/ptu8\n"
     ]
    }
   ],
   "source": [
    "os.chdir('..')\n",
    "print(os.getcwd())"
   ]
  },
  {
   "cell_type": "code",
   "execution_count": 13,
   "metadata": {},
   "outputs": [
    {
     "name": "stdout",
     "output_type": "stream",
     "text": [
      "/home/kestas/codeacademy/ptu8/ptu8_pirma_dalis\n"
     ]
    }
   ],
   "source": [
    "os.chdir(BASEDIR)\n",
    "print(os.getcwd())"
   ]
  },
  {
   "cell_type": "code",
   "execution_count": 18,
   "metadata": {},
   "outputs": [
    {
     "name": "stdout",
     "output_type": "stream",
     "text": [
      "['paskaita02_sarasai.ipynb', 'paieska.py', 'begalinis.py', 'paskaita01.ipynb', 'matematika.py', 'paskaita04_klaidos.ipynb', '3.txt', 'amzius.py', 'primitive_ui.py', 'venv', 'labas.py', 'funkcija.py', 'mat_funkcijos.py', 'amzius_tekstu.py', 'media', 'pusryciai.py', 'paieska2.py', 'paskaita06_failai.ipynb', 'kalkuliatorius.py', 'paskaita03_funkcijos.ipynb', 'klaida.py']\n"
     ]
    }
   ],
   "source": [
    "print(os.listdir())"
   ]
  },
  {
   "cell_type": "code",
   "execution_count": 19,
   "metadata": {},
   "outputs": [
    {
     "name": "stdout",
     "output_type": "stream",
     "text": [
      "['ptu8_pirma_dalis']\n"
     ]
    }
   ],
   "source": [
    "print(os.listdir('..'))"
   ]
  },
  {
   "cell_type": "code",
   "execution_count": 12,
   "metadata": {},
   "outputs": [],
   "source": [
    "os.mkdir('media')"
   ]
  },
  {
   "cell_type": "code",
   "execution_count": 15,
   "metadata": {},
   "outputs": [],
   "source": [
    "os.makedirs('media/txt/')"
   ]
  },
  {
   "cell_type": "code",
   "execution_count": 21,
   "metadata": {},
   "outputs": [
    {
     "data": {
      "text/plain": [
       "os.stat_result(st_mode=16893, st_ino=1441964, st_dev=64769, st_nlink=4, st_uid=1000, st_gid=1000, st_size=4096, st_atime=1672123488, st_mtime=1672123488, st_ctime=1672123488)"
      ]
     },
     "execution_count": 21,
     "metadata": {},
     "output_type": "execute_result"
    }
   ],
   "source": [
    "os.stat('.')"
   ]
  },
  {
   "cell_type": "code",
   "execution_count": 50,
   "metadata": {},
   "outputs": [
    {
     "data": {
      "text/plain": [
       "os.stat_result(st_mode=33204, st_ino=1443743, st_dev=64769, st_nlink=1, st_uid=1000, st_gid=1000, st_size=10450, st_atime=1672124309, st_mtime=1672124309, st_ctime=1672124309)"
      ]
     },
     "execution_count": 50,
     "metadata": {},
     "output_type": "execute_result"
    }
   ],
   "source": [
    "os.stat('paskaita06_failai.ipynb')"
   ]
  },
  {
   "cell_type": "code",
   "execution_count": 24,
   "metadata": {},
   "outputs": [
    {
     "data": {
      "text/plain": [
       "9369"
      ]
     },
     "execution_count": 24,
     "metadata": {},
     "output_type": "execute_result"
    }
   ],
   "source": [
    "os.stat('paskaita06_failai.ipynb').st_size"
   ]
  },
  {
   "cell_type": "code",
   "execution_count": 26,
   "metadata": {},
   "outputs": [],
   "source": [
    "from datetime import datetime"
   ]
  },
  {
   "cell_type": "code",
   "execution_count": 36,
   "metadata": {},
   "outputs": [
    {
     "data": {
      "text/plain": [
       "datetime.datetime(2022, 12, 27, 8, 55, 47, 498596)"
      ]
     },
     "execution_count": 36,
     "metadata": {},
     "output_type": "execute_result"
    }
   ],
   "source": [
    "sukurta = os.stat('paskaita06_failai.ipynb').st_ctime\n",
    "datetime.fromtimestamp(sukurta)"
   ]
  },
  {
   "cell_type": "code",
   "execution_count": 6,
   "metadata": {},
   "outputs": [
    {
     "name": "stdout",
     "output_type": "stream",
     "text": [
      "os.stat_result(st_mode=16893, st_ino=11535340, st_dev=64769, st_nlink=2, st_uid=1000, st_gid=1000, st_size=4096, st_atime=1672125450, st_mtime=1672125450, st_ctime=1672125450)\n"
     ]
    }
   ],
   "source": [
    "try:\n",
    "    info = os.stat('media/katalogas/klaida')\n",
    "except FileNotFoundError:\n",
    "    try:\n",
    "        os.makedirs('media/katalogas/klaida')\n",
    "    except OSError:\n",
    "        print('neturim teisių')\n",
    "        info = None\n",
    "    else:\n",
    "        info = os.stat('media/katalogas/klaida')\n",
    "print(info)"
   ]
  },
  {
   "attachments": {},
   "cell_type": "markdown",
   "metadata": {},
   "source": [
    "# Tekstinių failų skaitymas/rašymas"
   ]
  },
  {
   "cell_type": "code",
   "execution_count": 25,
   "metadata": {},
   "outputs": [],
   "source": [
    "# atidarom faila rasymui\n",
    "failas = open('media/labas.txt', 'w')\n",
    "failas.write('Sveiki Studentai!')\n",
    "# jeigu cia kur nors butu klaida, kuri pakabintu python, failas patampa nebepasiekiamas\n",
    "failas.close()"
   ]
  },
  {
   "cell_type": "code",
   "execution_count": 74,
   "metadata": {},
   "outputs": [],
   "source": [
    "with open('media/labas.txt', 'w') as failas:\n",
    "    failas.write('Labas rytas is naujo!\\n')\n",
    "    failas.write('Kaip sekas?\\n')"
   ]
  },
  {
   "cell_type": "code",
   "execution_count": 75,
   "metadata": {},
   "outputs": [
    {
     "name": "stdout",
     "output_type": "stream",
     "text": [
      "Labas rytas is naujo!\n",
      "Kaip sekas?\n",
      "\n"
     ]
    }
   ],
   "source": [
    "with open('media/labas.txt', 'r') as skaitomas:\n",
    "    tekstas = skaitomas.read()\n",
    "print(tekstas)"
   ]
  },
  {
   "cell_type": "code",
   "execution_count": 76,
   "metadata": {},
   "outputs": [],
   "source": [
    "with open('media/labas.txt', 'a') as papildomas:\n",
    "    papildomas.write('Kokia grazi diena\\n')"
   ]
  },
  {
   "cell_type": "code",
   "execution_count": 77,
   "metadata": {},
   "outputs": [
    {
     "name": "stdout",
     "output_type": "stream",
     "text": [
      "Labas rytas is naujo!\n",
      "Kaip sekas?\n",
      "Kokia grazi diena\n",
      "\n",
      "---\n",
      "Labas rytas is naujo!\n",
      "Kaip sekas?\n",
      "Kokia grazi diena\n",
      "Pagerinam prie to pacio ta pati faila\n",
      "\n"
     ]
    }
   ],
   "source": [
    "with open('media/labas.txt', 'r+') as failas:\n",
    "    senas = failas.read()\n",
    "    failas.write('Pagerinam prie to pacio ta pati faila\\n')\n",
    "    failas.seek(0)\n",
    "    naujas = failas.read()\n",
    "print(senas)\n",
    "print('---')\n",
    "print(naujas)"
   ]
  },
  {
   "cell_type": "code",
   "execution_count": 63,
   "metadata": {},
   "outputs": [
    {
     "name": "stdout",
     "output_type": "stream",
     "text": [
      "Labas Super \n"
     ]
    }
   ],
   "source": [
    "# atidaro faila skaitymui ir rasymui pradzioje\n",
    "with open('media/labas.txt', 'r+') as failas:\n",
    "    failas.seek(6)\n",
    "    failas.write('Super')\n",
    "    failas.seek(0)\n",
    "    naujas = failas.read(12)\n",
    "print(naujas)"
   ]
  },
  {
   "cell_type": "code",
   "execution_count": 71,
   "metadata": {},
   "outputs": [
    {
     "name": "stdout",
     "output_type": "stream",
     "text": [
      "nauji metai tuoj\n",
      "Lietuviškas reikalas, žiūrim ar veikia...\n",
      "Lietuviškas reikalas, žiūrim ar veikia...\n",
      "\n"
     ]
    }
   ],
   "source": [
    "# atidaro faila skaitymui ir rasymui, kursorius gale\n",
    "with open('media/labas.txt', 'a+', encoding='utf-8') as pridedamas:\n",
    "    pridedamas.write('Lietuviškas reikalas, žiūrim ar veikia...\\n')\n",
    "    pridedamas.seek(0)\n",
    "    atnaujintas = pridedamas.read()\n",
    "print(atnaujintas)"
   ]
  },
  {
   "cell_type": "code",
   "execution_count": 72,
   "metadata": {},
   "outputs": [
    {
     "name": "stdout",
     "output_type": "stream",
     "text": [
      "nauji metai tuoj\n",
      "\n"
     ]
    }
   ],
   "source": [
    "# atidaro faila skaitymui ir rasymui, jo turini sunaikinimui\n",
    "# with open('media/labas.txt', 'w+') as failas:\n",
    "#     failas.write('nauji metai tuoj\\n')\n",
    "#     failas.seek(0)\n",
    "#     naujas = failas.read()\n",
    "# print(naujas)"
   ]
  },
  {
   "cell_type": "code",
   "execution_count": 80,
   "metadata": {},
   "outputs": [
    {
     "name": "stdout",
     "output_type": "stream",
     "text": [
      "-1\n",
      "Labas rytas is naujo!\n",
      "Kaip sekas?\n",
      "Kokia smagi diena\n",
      "Pagerinam prie to pacio ta pati faila\n",
      "\n"
     ]
    }
   ],
   "source": [
    "with open('media/labas.txt', 'r+') as failas:\n",
    "    senas = failas.read()\n",
    "    kursorius = senas.find('grazi')\n",
    "    print(kursorius)\n",
    "    if kursorius > 0:\n",
    "        failas.seek(kursorius)\n",
    "        failas.write('smagi')\n",
    "        failas.seek(0)\n",
    "        naujas = failas.read()\n",
    "print(naujas)"
   ]
  },
  {
   "cell_type": "code",
   "execution_count": 81,
   "metadata": {},
   "outputs": [
    {
     "name": "stdout",
     "output_type": "stream",
     "text": [
      "Labas rytas is naujo!\n",
      "Kaip sekas?\n",
      "Kokia smagiausia diena\n",
      "Pagerinam prie to pacio ta pati faila\n",
      "\n"
     ]
    }
   ],
   "source": [
    "with open('media/labas.txt', 'r') as failas:\n",
    "    senas = failas.read()\n",
    "atnaujinimas = senas.replace('smagi', 'smagiausia')\n",
    "with open('media/labas.txt', 'w+') as failas:\n",
    "    failas.write(atnaujinimas)\n",
    "    failas.seek(0)\n",
    "    naujas = failas.read()\n",
    "print(naujas)"
   ]
  },
  {
   "cell_type": "code",
   "execution_count": 84,
   "metadata": {},
   "outputs": [
    {
     "name": "stdout",
     "output_type": "stream",
     "text": [
      "Kaip sekas?\n",
      "\n"
     ]
    }
   ],
   "source": [
    "with open('media/labas.txt', 'r') as failas:\n",
    "    eilutes = failas.readlines()\n",
    "print(eilutes[1])"
   ]
  },
  {
   "cell_type": "code",
   "execution_count": 88,
   "metadata": {},
   "outputs": [
    {
     "name": "stdout",
     "output_type": "stream",
     "text": [
      "1 Labas rytas is naujo!\n",
      "2 Kaip sekas?\n",
      "3 Kokia smagiausia diena\n",
      "4 Pagerinam prie to pacio ta pati faila\n"
     ]
    }
   ],
   "source": [
    "with open('media/labas.txt', 'r') as failas:\n",
    "    for numeris, eilute in enumerate(failas):\n",
    "        print(numeris+1, eilute, end=\"\")\n"
   ]
  },
  {
   "attachments": {},
   "cell_type": "markdown",
   "metadata": {},
   "source": [
    "## copy-paste"
   ]
  },
  {
   "cell_type": "code",
   "execution_count": 89,
   "metadata": {},
   "outputs": [
    {
     "name": "stdout",
     "output_type": "stream",
     "text": [
      "Labas rytas is naujo!\n",
      "Kaip sekas?\n",
      "Kokia smagiausia diena\n",
      "Pagerinam prie to pacio ta pati faila\n"
     ]
    }
   ],
   "source": [
    "with open('media/labas.txt', 'r') as skaitomas:\n",
    "    with open('media/kopija.txt', 'w') as rasomas:\n",
    "        rasomas.write(skaitomas.read())\n",
    "\n",
    "with open('media/kopija.txt', 'r') as tikrinamas:\n",
    "    for eilute in tikrinamas:\n",
    "        print(eilute, end=\"\")"
   ]
  },
  {
   "cell_type": "code",
   "execution_count": 90,
   "metadata": {},
   "outputs": [],
   "source": [
    "with open('media/download.png', 'rb') as skaitomas:\n",
    "    with open('media/google_kaledos.png', 'wb') as rasomas:\n",
    "        for eilute in skaitomas:\n",
    "            rasomas.write(eilute)\n"
   ]
  },
  {
   "attachments": {},
   "cell_type": "markdown",
   "metadata": {},
   "source": [
    "# pickle failai"
   ]
  },
  {
   "cell_type": "code",
   "execution_count": 1,
   "metadata": {},
   "outputs": [],
   "source": [
    "import pickle"
   ]
  },
  {
   "cell_type": "code",
   "execution_count": 3,
   "metadata": {},
   "outputs": [],
   "source": [
    "skaicius = 2 ** 16\n",
    "with open('media/skaicius.pkl', 'wb') as agurkas:\n",
    "    pickle.dump(skaicius, agurkas)"
   ]
  },
  {
   "cell_type": "code",
   "execution_count": 4,
   "metadata": {},
   "outputs": [
    {
     "name": "stdout",
     "output_type": "stream",
     "text": [
      "65536 <class 'int'>\n"
     ]
    }
   ],
   "source": [
    "with open('media/skaicius.pkl', 'rb') as agurkas:\n",
    "    agurkinis_skaicius = pickle.load(agurkas)\n",
    "print(agurkinis_skaicius, type(agurkinis_skaicius))"
   ]
  },
  {
   "cell_type": "code",
   "execution_count": 5,
   "metadata": {},
   "outputs": [],
   "source": [
    "from datetime import datetime\n",
    "dabar = datetime.now()\n",
    "tekstas = input('iveskit ka norit: ')\n",
    "with open('media/miksas.pkl', 'wb') as agurkas:\n",
    "    pickle.dump(skaicius, agurkas)\n",
    "    pickle.dump(dabar, agurkas)\n",
    "    pickle.dump(tekstas, agurkas)"
   ]
  },
  {
   "cell_type": "code",
   "execution_count": 7,
   "metadata": {},
   "outputs": [
    {
     "name": "stdout",
     "output_type": "stream",
     "text": [
      "65536 2022-12-28 10:27:04.626598 labas rytas studentai\n"
     ]
    }
   ],
   "source": [
    "with open('media/miksas.pkl', 'rb') as agurkas:\n",
    "    kint1 = pickle.load(agurkas)\n",
    "    kint2 = pickle.load(agurkas)\n",
    "    kint3 = pickle.load(agurkas)\n",
    "print(kint1, kint2, kint3)"
   ]
  },
  {
   "cell_type": "code",
   "execution_count": 39,
   "metadata": {},
   "outputs": [],
   "source": [
    "from random import randint\n",
    "sarasas = [randint(100, 999) for __ in range(100)]\n",
    "with open('media/random_100.pkl', 'wb') as agurkas:\n",
    "    pickle.dump(sarasas, agurkas)"
   ]
  },
  {
   "cell_type": "code",
   "execution_count": 40,
   "metadata": {},
   "outputs": [
    {
     "name": "stdout",
     "output_type": "stream",
     "text": [
      "[559, 629, 222, 979, 674, 480, 369, 337, 399, 598, 392, 964, 551, 209, 924, 119, 770, 989, 845, 675, 249, 524, 648, 926, 357, 430, 673, 617, 917, 354, 767, 151, 333, 997, 177, 701, 752, 639, 638, 266, 655, 909, 723, 595, 170, 597, 545, 747, 691, 192, 381, 900, 115, 610, 697, 228, 659, 467, 521, 383, 178, 824, 220, 755, 942, 672, 333, 318, 550, 857, 791, 392, 841, 391, 810, 850, 221, 392, 605, 806, 360, 522, 700, 101, 311, 580, 322, 899, 476, 100, 180, 282, 863, 419, 488, 558, 951, 383, 525, 300]\n"
     ]
    }
   ],
   "source": [
    "with open('media/random_100.pkl', 'rb') as agurkas:\n",
    "    loterija = pickle.load(agurkas)\n",
    "print(loterija)"
   ]
  },
  {
   "cell_type": "code",
   "execution_count": 44,
   "metadata": {},
   "outputs": [
    {
     "name": "stdout",
     "output_type": "stream",
     "text": [
      "{'vardas': 'Geras', 'pavardė': 'Studentas', 'gimimo data': datetime.date(1983, 3, 19), 'lygis': 'vyras', 'ar linksmas': True, 'atlyginimas': 11.11}\n"
     ]
    }
   ],
   "source": [
    "from datetime import date\n",
    "zmogus = {\n",
    "    \"vardas\": \"Geras\",\n",
    "    \"pavardė\": \"Studentas\",\n",
    "    \"gimimo data\": date(1983, 3, 19),\n",
    "    \"lygis\": \"vyras\",\n",
    "    \"ar linksmas\": True,\n",
    "    \"atlyginimas\": 11.11,\n",
    "}\n",
    "print(zmogus)\n",
    "with open('media/geras.pkl', 'wb') as agurkas:\n",
    "    pickle.dump(zmogus, agurkas)"
   ]
  },
  {
   "cell_type": "code",
   "execution_count": 52,
   "metadata": {},
   "outputs": [
    {
     "name": "stdout",
     "output_type": "stream",
     "text": [
      "{'vardas': 'Geras', 'pavardė': 'Studentas', 'gimimo data': datetime.date(1983, 3, 19), 'lygis': 'vyras', 'ar linksmas': True, 'atlyginimas': 540}\n"
     ]
    }
   ],
   "source": [
    "with open('media/geras.pkl', 'rb') as agurkas:\n",
    "    padaras = pickle.load(agurkas)\n",
    "print(padaras)\n",
    "# pakeičiam tik atlyginimą\n",
    "padaras[\"atlyginimas\"] = randint(0, 1000)\n",
    "with open('media/geras.pkl', 'wb') as agurkas:\n",
    "    pickle.dump(padaras, agurkas)"
   ]
  }
 ],
 "metadata": {
  "kernelspec": {
   "display_name": "venv",
   "language": "python",
   "name": "python3"
  },
  "language_info": {
   "codemirror_mode": {
    "name": "ipython",
    "version": 3
   },
   "file_extension": ".py",
   "mimetype": "text/x-python",
   "name": "python",
   "nbconvert_exporter": "python",
   "pygments_lexer": "ipython3",
   "version": "3.8.10"
  },
  "orig_nbformat": 4,
  "vscode": {
   "interpreter": {
    "hash": "ae5517e200323c4e27d154c1fe0c18d79d70ea03233d618e57037785ffe1e95e"
   }
  }
 },
 "nbformat": 4,
 "nbformat_minor": 2
}
