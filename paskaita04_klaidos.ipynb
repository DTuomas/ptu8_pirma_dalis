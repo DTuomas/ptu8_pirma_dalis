{
 "cells": [
  {
   "attachments": {},
   "cell_type": "markdown",
   "metadata": {},
   "source": [
    "# Loginiai kintamieji (boolean)"
   ]
  },
  {
   "cell_type": "code",
   "execution_count": 4,
   "metadata": {},
   "outputs": [
    {
     "data": {
      "text/plain": [
       "bool"
      ]
     },
     "execution_count": 4,
     "metadata": {},
     "output_type": "execute_result"
    }
   ],
   "source": [
    "tiesa = True\n",
    "type(tiesa)"
   ]
  },
  {
   "cell_type": "code",
   "execution_count": 5,
   "metadata": {},
   "outputs": [
    {
     "data": {
      "text/plain": [
       "1"
      ]
     },
     "execution_count": 5,
     "metadata": {},
     "output_type": "execute_result"
    }
   ],
   "source": [
    "int(tiesa)"
   ]
  },
  {
   "cell_type": "code",
   "execution_count": 6,
   "metadata": {},
   "outputs": [
    {
     "data": {
      "text/plain": [
       "0"
      ]
     },
     "execution_count": 6,
     "metadata": {},
     "output_type": "execute_result"
    }
   ],
   "source": [
    "int(False)"
   ]
  },
  {
   "cell_type": "code",
   "execution_count": 8,
   "metadata": {},
   "outputs": [
    {
     "data": {
      "text/plain": [
       "bool"
      ]
     },
     "execution_count": 8,
     "metadata": {},
     "output_type": "execute_result"
    }
   ],
   "source": [
    "from calendar import isleap\n",
    "type(isleap(2100))"
   ]
  },
  {
   "cell_type": "code",
   "execution_count": 19,
   "metadata": {},
   "outputs": [
    {
     "data": {
      "text/plain": [
       "True"
      ]
     },
     "execution_count": 19,
     "metadata": {},
     "output_type": "execute_result"
    }
   ],
   "source": [
    "krepselis = {\n",
    "    \"sausainiai\": 2,\n",
    "    \"kava\": 1.05,\n",
    "    \"medus\": 7,\n",
    "}\n",
    "\n",
    "def ar_yra(zodynas, raktas):\n",
    "    if raktas in zodynas:\n",
    "        return True\n",
    "    else:\n",
    "        return False\n",
    "\n",
    "ar_yra(krepselis, 'medus')"
   ]
  },
  {
   "cell_type": "code",
   "execution_count": 21,
   "metadata": {},
   "outputs": [
    {
     "name": "stdout",
     "output_type": "stream",
     "text": [
      "1.05\n"
     ]
    }
   ],
   "source": [
    "# if ar_yra(krepselis, 'kava'):\n",
    "if 'kava' in krepselis:\n",
    "    print(krepselis['kava'])\n",
    "else:\n",
    "    print('kavos nera')"
   ]
  },
  {
   "cell_type": "code",
   "execution_count": 31,
   "metadata": {},
   "outputs": [
    {
     "data": {
      "text/plain": [
       "True"
      ]
     },
     "execution_count": 31,
     "metadata": {},
     "output_type": "execute_result"
    }
   ],
   "source": [
    "tiesa = ar_yra(krepselis, 'uogiene') == False\n",
    "tiesa"
   ]
  },
  {
   "cell_type": "code",
   "execution_count": 32,
   "metadata": {},
   "outputs": [
    {
     "data": {
      "text/plain": [
       "False"
      ]
     },
     "execution_count": 32,
     "metadata": {},
     "output_type": "execute_result"
    }
   ],
   "source": [
    "not True"
   ]
  },
  {
   "cell_type": "code",
   "execution_count": 33,
   "metadata": {},
   "outputs": [
    {
     "data": {
      "text/plain": [
       "True"
      ]
     },
     "execution_count": 33,
     "metadata": {},
     "output_type": "execute_result"
    }
   ],
   "source": [
    "not False"
   ]
  },
  {
   "cell_type": "code",
   "execution_count": 34,
   "metadata": {},
   "outputs": [
    {
     "data": {
      "text/plain": [
       "True"
      ]
     },
     "execution_count": 34,
     "metadata": {},
     "output_type": "execute_result"
    }
   ],
   "source": [
    "not ar_yra(krepselis, 'uogiene')"
   ]
  },
  {
   "cell_type": "code",
   "execution_count": 41,
   "metadata": {},
   "outputs": [
    {
     "name": "stdout",
     "output_type": "stream",
     "text": [
      "Airida\n",
      "Shakute\n"
     ]
    }
   ],
   "source": [
    "darbuotojai = {\n",
    "    'studente': \"Airida\",\n",
    "    'destytojas': \"Kestutis\",\n",
    "    'koordinatorius': \"Shakute\",\n",
    "}\n",
    "\n",
    "if ar_yra(darbuotojai, 'studente'):\n",
    "    print(darbuotojai['studente'])\n",
    "\n",
    "if ar_yra(darbuotojai, 'koordinatorius'):\n",
    "    print(darbuotojai['koordinatorius'])"
   ]
  },
  {
   "cell_type": "code",
   "execution_count": 50,
   "metadata": {},
   "outputs": [
    {
     "name": "stdout",
     "output_type": "stream",
     "text": [
      "<class 'dict'>\n",
      "<class 'str'>\n",
      "<class 'float'>\n",
      "<class 'int'>\n",
      "<class 'bool'>\n",
      "<class 'float'>\n",
      "<class 'function'>\n"
     ]
    }
   ],
   "source": [
    "print(type(darbuotojai))\n",
    "print(type(darbuotojai['koordinatorius']))\n",
    "print(type(krepselis['kava']))\n",
    "print(type(krepselis['sausainiai']))\n",
    "print(type(ar_yra(krepselis, 'medus')))\n",
    "print(type(5.5))\n",
    "print(type(ar_yra))"
   ]
  },
  {
   "attachments": {},
   "cell_type": "markdown",
   "metadata": {},
   "source": [
    "# Data laikas"
   ]
  },
  {
   "cell_type": "code",
   "execution_count": 51,
   "metadata": {},
   "outputs": [],
   "source": [
    "import datetime"
   ]
  },
  {
   "cell_type": "code",
   "execution_count": 52,
   "metadata": {},
   "outputs": [
    {
     "data": {
      "text/plain": [
       "datetime.date(2022, 12, 22)"
      ]
     },
     "execution_count": 52,
     "metadata": {},
     "output_type": "execute_result"
    }
   ],
   "source": [
    "datetime.date.today()"
   ]
  },
  {
   "cell_type": "code",
   "execution_count": 53,
   "metadata": {},
   "outputs": [
    {
     "name": "stdout",
     "output_type": "stream",
     "text": [
      "2022-12-22\n"
     ]
    }
   ],
   "source": [
    "siandien = datetime.date.today()\n",
    "print(siandien)"
   ]
  },
  {
   "cell_type": "code",
   "execution_count": 54,
   "metadata": {},
   "outputs": [
    {
     "data": {
      "text/plain": [
       "datetime.date"
      ]
     },
     "execution_count": 54,
     "metadata": {},
     "output_type": "execute_result"
    }
   ],
   "source": [
    "type(siandien)"
   ]
  },
  {
   "cell_type": "code",
   "execution_count": 58,
   "metadata": {},
   "outputs": [
    {
     "name": "stdout",
     "output_type": "stream",
     "text": [
      "13:58:00\n",
      "<class 'datetime.time'>\n"
     ]
    }
   ],
   "source": [
    "laikas = datetime.time(13, 58)\n",
    "print(laikas)\n",
    "print(type(laikas))"
   ]
  },
  {
   "cell_type": "code",
   "execution_count": 60,
   "metadata": {},
   "outputs": [
    {
     "name": "stdout",
     "output_type": "stream",
     "text": [
      "2022-12-22 14:00:01.481356\n",
      "<class 'datetime.datetime'>\n"
     ]
    }
   ],
   "source": [
    "dabar = datetime.datetime.now()\n",
    "print(dabar)\n",
    "print(type(dabar))"
   ]
  },
  {
   "cell_type": "code",
   "execution_count": 62,
   "metadata": {},
   "outputs": [
    {
     "name": "stdout",
     "output_type": "stream",
     "text": [
      "2022-12-22 12:01:37.895181\n"
     ]
    }
   ],
   "source": [
    "utc_dabar = datetime.datetime.utcnow()\n",
    "print(utc_dabar)"
   ]
  },
  {
   "cell_type": "code",
   "execution_count": 69,
   "metadata": {},
   "outputs": [
    {
     "data": {
      "text/plain": [
       "14"
      ]
     },
     "execution_count": 69,
     "metadata": {},
     "output_type": "execute_result"
    }
   ],
   "source": [
    "skirtumas = datetime.datetime.now() - dabar\n",
    "skirtumas.seconds // 60"
   ]
  },
  {
   "cell_type": "code",
   "execution_count": 67,
   "metadata": {},
   "outputs": [
    {
     "data": {
      "text/plain": [
       "datetime.timedelta"
      ]
     },
     "execution_count": 67,
     "metadata": {},
     "output_type": "execute_result"
    }
   ],
   "source": [
    "type(skirtumas)"
   ]
  },
  {
   "cell_type": "code",
   "execution_count": 68,
   "metadata": {},
   "outputs": [
    {
     "name": "stdout",
     "output_type": "stream",
     "text": [
      "1983-03-19\n"
     ]
    }
   ],
   "source": [
    "gimiau = datetime.date(1983, 3, 19)\n",
    "print(gimiau)"
   ]
  },
  {
   "cell_type": "code",
   "execution_count": 70,
   "metadata": {},
   "outputs": [
    {
     "name": "stdout",
     "output_type": "stream",
     "text": [
      "14523 days, 0:00:00\n"
     ]
    }
   ],
   "source": [
    "amzius = datetime.date.today() - gimiau\n",
    "print(amzius)"
   ]
  },
  {
   "cell_type": "code",
   "execution_count": 75,
   "metadata": {},
   "outputs": [
    {
     "data": {
      "text/plain": [
       "39.76"
      ]
     },
     "execution_count": 75,
     "metadata": {},
     "output_type": "execute_result"
    }
   ],
   "source": [
    "round(amzius.days / 365.25, 2)"
   ]
  },
  {
   "cell_type": "code",
   "execution_count": 82,
   "metadata": {},
   "outputs": [
    {
     "name": "stdout",
     "output_type": "stream",
     "text": [
      "39 metai, 278 dienos\n"
     ]
    }
   ],
   "source": [
    "print(f\"{(amzius.days // 365.25):0.0f} metai, {(amzius.days % 365.25):0.0f} dienos\")"
   ]
  },
  {
   "cell_type": "code",
   "execution_count": 91,
   "metadata": {},
   "outputs": [
    {
     "name": "stdout",
     "output_type": "stream",
     "text": [
      "39 9 8\n"
     ]
    }
   ],
   "source": [
    "metai = amzius.days // 365.25\n",
    "menesiai = (amzius.days % 365.25) // 30\n",
    "dienos = round(amzius.days % 365.25) - menesiai * 30\n",
    "print(int(metai), int(menesiai), int(dienos))"
   ]
  },
  {
   "attachments": {},
   "cell_type": "markdown",
   "metadata": {},
   "source": [
    "## datos/laiko konvertavimo/formatavimo funkcijos strftime/strptime"
   ]
  },
  {
   "cell_type": "code",
   "execution_count": 107,
   "metadata": {},
   "outputs": [
    {
     "name": "stdout",
     "output_type": "stream",
     "text": [
      "Saturday, March 19, 1983\n"
     ]
    }
   ],
   "source": [
    "print(gimiau.strftime(\"%A, %B %d, %Y\"))"
   ]
  },
  {
   "cell_type": "code",
   "execution_count": 94,
   "metadata": {},
   "outputs": [],
   "source": [
    "import locale"
   ]
  },
  {
   "cell_type": "code",
   "execution_count": 106,
   "metadata": {},
   "outputs": [
    {
     "data": {
      "text/plain": [
       "'en_US.UTF-8'"
      ]
     },
     "execution_count": 106,
     "metadata": {},
     "output_type": "execute_result"
    }
   ],
   "source": [
    "locale.setlocale(locale.LC_ALL, 'en_US.UTF-8')"
   ]
  },
  {
   "attachments": {},
   "cell_type": "markdown",
   "metadata": {},
   "source": [
    "## timedelta"
   ]
  },
  {
   "cell_type": "code",
   "execution_count": 115,
   "metadata": {},
   "outputs": [
    {
     "data": {
      "text/plain": [
       "datetime.date(2022, 12, 15)"
      ]
     },
     "execution_count": 115,
     "metadata": {},
     "output_type": "execute_result"
    }
   ],
   "source": [
    "datetime.date.today() - datetime.timedelta(days=7)"
   ]
  },
  {
   "cell_type": "code",
   "execution_count": 114,
   "metadata": {},
   "outputs": [
    {
     "data": {
      "text/plain": [
       "datetime.date(2025, 9, 17)"
      ]
     },
     "execution_count": 114,
     "metadata": {},
     "output_type": "execute_result"
    }
   ],
   "source": [
    "datetime.date.today() - datetime.timedelta(days=-1000)"
   ]
  },
  {
   "cell_type": "code",
   "execution_count": 122,
   "metadata": {},
   "outputs": [
    {
     "data": {
      "text/plain": [
       "'Friday, February 10, 2023'"
      ]
     },
     "execution_count": 122,
     "metadata": {},
     "output_type": "execute_result"
    }
   ],
   "source": [
    "uz_50_dienu = datetime.date.today() + datetime.timedelta(days=50)\n",
    "uz_50_dienu.strftime(\"%A, %B %d, %Y\")"
   ]
  },
  {
   "cell_type": "code",
   "execution_count": 116,
   "metadata": {},
   "outputs": [
    {
     "data": {
      "text/plain": [
       "69"
      ]
     },
     "execution_count": 116,
     "metadata": {},
     "output_type": "execute_result"
    }
   ],
   "source": [
    "skirtumas = datetime.date(2023, 3, 1) - datetime.date.today()\n",
    "skirtumas.days"
   ]
  },
  {
   "cell_type": "code",
   "execution_count": 133,
   "metadata": {},
   "outputs": [
    {
     "name": "stdout",
     "output_type": "stream",
     "text": [
      "<class 'datetime.datetime'>\n",
      "<class 'str'>\n",
      "15:46:35\n"
     ]
    }
   ],
   "source": [
    "dabar = datetime.datetime.now()\n",
    "laikrodis = dabar.strftime(\"%H:%M:%S\")\n",
    "print(type(dabar))\n",
    "print(type(laikrodis))\n",
    "print(laikrodis)"
   ]
  },
  {
   "cell_type": "code",
   "execution_count": 120,
   "metadata": {},
   "outputs": [
    {
     "data": {
      "text/plain": [
       "'14:37'"
      ]
     },
     "execution_count": 120,
     "metadata": {},
     "output_type": "execute_result"
    }
   ],
   "source": [
    "pries_valanda = datetime.datetime.now() - datetime.timedelta(seconds=60*60)\n",
    "pries_valanda.strftime(\"%H:%M\")"
   ]
  },
  {
   "attachments": {},
   "cell_type": "markdown",
   "metadata": {},
   "source": [
    "# Klaidų gaudymas"
   ]
  },
  {
   "cell_type": "code",
   "execution_count": 23,
   "metadata": {},
   "outputs": [
    {
     "name": "stdout",
     "output_type": "stream",
     "text": [
      "Error TypeError: unsupported operand type(s) for /: 'int' and 'str'\n"
     ]
    }
   ],
   "source": [
    "sk1 = 7\n",
    "sk2 = 'x'\n",
    "try:\n",
    "    rez = sk1 / sk2\n",
    "except Exception as error:\n",
    "    print(f\"Error {error.__class__.__name__}: {error}\")\n",
    "else:\n",
    "    print(f\"{sk1} / {sk2} = {rez}\")"
   ]
  },
  {
   "cell_type": "code",
   "execution_count": 24,
   "metadata": {},
   "outputs": [
    {
     "name": "stdout",
     "output_type": "stream",
     "text": [
      "Error ZeroDivisionError: division by zero\n"
     ]
    }
   ],
   "source": [
    "sk1 = 7\n",
    "sk2 = 0\n",
    "try:\n",
    "    rez = sk1 / sk2\n",
    "except TypeError as error:\n",
    "    print(f\"Error {error.__class__.__name__}: {error}\")\n",
    "except ZeroDivisionError as error:\n",
    "    print(f\"Error {error.__class__.__name__}: {error}\")\n",
    "else:\n",
    "    print(f\"{sk1} / {sk2} = {rez}\")"
   ]
  },
  {
   "cell_type": "code",
   "execution_count": 11,
   "metadata": {},
   "outputs": [
    {
     "name": "stdout",
     "output_type": "stream",
     "text": [
      "Matematiniai veiksmai leidžiami tik su skaičiais\n"
     ]
    }
   ],
   "source": [
    "sk1 = 'x'\n",
    "sk2 = 0\n",
    "try:\n",
    "    rez = sk1 / sk2\n",
    "except TypeError as error:\n",
    "    print(f\"Matematiniai veiksmai leidžiami tik su skaičiais\")\n",
    "except ZeroDivisionError as error:\n",
    "    print(f\"Dalybos iš nulio klaida\")\n",
    "else:\n",
    "    print(f\"{sk1} / {sk2} = {rez}\")"
   ]
  },
  {
   "cell_type": "code",
   "execution_count": 22,
   "metadata": {},
   "outputs": [
    {
     "name": "stdout",
     "output_type": "stream",
     "text": [
      "<class 'datetime.datetime'>\n",
      "datetime\n",
      "<class 'str'>\n",
      "str\n"
     ]
    }
   ],
   "source": [
    "from datetime import datetime\n",
    "obj = datetime.now()\n",
    "print(obj.__class__)\n",
    "print(obj.__class__.__name__)\n",
    "obj = \"tekstas\"\n",
    "print(obj.__class__)\n",
    "print(obj.__class__.__name__)\n"
   ]
  },
  {
   "cell_type": "code",
   "execution_count": 34,
   "metadata": {},
   "outputs": [
    {
     "name": "stdout",
     "output_type": "stream",
     "text": [
      "Klaida FileNotFoundError:[Errno 2] No such file or directory: '1.txt'\n"
     ]
    }
   ],
   "source": [
    "try:\n",
    "    skaicius = int(input(\"iveskite skaiciu: \"))\n",
    "    rezultatas = 9 // skaicius\n",
    "    failas = open(str(rezultatas)+\".txt\")\n",
    "except Exception as klaida:\n",
    "    print(f\"Klaida {klaida.__class__.__name__}:{klaida}\")\n"
   ]
  },
  {
   "cell_type": "code",
   "execution_count": 46,
   "metadata": {},
   "outputs": [
    {
     "name": "stdout",
     "output_type": "stream",
     "text": [
      "veikia!\n",
      "vykdom koda toliau\n",
      "rezultatas: 3\n"
     ]
    }
   ],
   "source": [
    "try:\n",
    "    skaicius = int(input(\"iveskite skaiciu: \"))\n",
    "    rezultatas = 9 // skaicius\n",
    "    failas = open(str(rezultatas)+\".txt\")\n",
    "except ValueError:\n",
    "    print('Ivestas ne skaičius')\n",
    "    rezultatas = 1\n",
    "except ZeroDivisionError:\n",
    "    print('Dalyba iš nulio negalima')\n",
    "    rezultatas = 0\n",
    "except FileNotFoundError:\n",
    "    print('Failas nerastas, tai jį sukursim')\n",
    "    failas = open(str(rezultatas)+\".txt\", \"w\")\n",
    "else:\n",
    "    print('veikia!')\n",
    "finally:\n",
    "    print('vykdom koda toliau')\n",
    "    print('rezultatas:', rezultatas)\n"
   ]
  }
 ],
 "metadata": {
  "kernelspec": {
   "display_name": "venv",
   "language": "python",
   "name": "python3"
  },
  "language_info": {
   "codemirror_mode": {
    "name": "ipython",
    "version": 3
   },
   "file_extension": ".py",
   "mimetype": "text/x-python",
   "name": "python",
   "nbconvert_exporter": "python",
   "pygments_lexer": "ipython3",
   "version": "3.8.10 (default, Nov 14 2022, 12:59:47) \n[GCC 9.4.0]"
  },
  "orig_nbformat": 4,
  "vscode": {
   "interpreter": {
    "hash": "ae5517e200323c4e27d154c1fe0c18d79d70ea03233d618e57037785ffe1e95e"
   }
  }
 },
 "nbformat": 4,
 "nbformat_minor": 2
}
