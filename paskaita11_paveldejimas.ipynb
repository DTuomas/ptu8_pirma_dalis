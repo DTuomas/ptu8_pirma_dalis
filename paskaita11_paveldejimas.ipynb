{
 "cells": [
  {
   "cell_type": "code",
   "execution_count": 1,
   "metadata": {},
   "outputs": [],
   "source": [
    "class Gyvunas:\n",
    "    def __init__(self, vardas: str, spalva: str, kojos: int, amzius=0):\n",
    "        self.vardas = vardas\n",
    "        self.spalva = spalva\n",
    "        self.kojos = kojos\n",
    "        self.amzius = amzius\n",
    "\n",
    "    def __str__(self) -> str:\n",
    "        return f\"{self.__class__.__name__} {self.vardas}, spalva: {self.spalva}, {self.kojos}-kojis, {self.amzius} metu\"\n",
    "\n",
    "    def begti(self):\n",
    "        print(\"begu\")"
   ]
  },
  {
   "cell_type": "code",
   "execution_count": 2,
   "metadata": {},
   "outputs": [
    {
     "name": "stdout",
     "output_type": "stream",
     "text": [
      "Gyvunas Turbo, spalva: Zalias, 4-kojis, 3 metu\n",
      "begu\n"
     ]
    }
   ],
   "source": [
    "vezlys = Gyvunas(\"Turbo\", \"Zalias\", 4, 3)\n",
    "print(vezlys)\n",
    "vezlys.begti()"
   ]
  },
  {
   "cell_type": "code",
   "execution_count": 5,
   "metadata": {},
   "outputs": [],
   "source": [
    "class Kate(Gyvunas):\n",
    "    def miaukti(self):\n",
    "        print(\"miau\")"
   ]
  },
  {
   "cell_type": "code",
   "execution_count": 6,
   "metadata": {},
   "outputs": [
    {
     "name": "stdout",
     "output_type": "stream",
     "text": [
      "Kate Murklys, spalva: Juodai baltas, 4-kojis, 11 metu\n",
      "miau\n",
      "begu\n"
     ]
    }
   ],
   "source": [
    "murklys = Kate(\"Murklys\", \"Juodai baltas\", 4, 11)\n",
    "print(murklys)\n",
    "murklys.miaukti()\n",
    "murklys.begti()"
   ]
  },
  {
   "cell_type": "code",
   "execution_count": 26,
   "metadata": {},
   "outputs": [],
   "source": [
    "class Vezlys(Gyvunas):\n",
    "    def begti(self):\n",
    "        print(\"einu leeeetaiiii.. ai ne, \", end=\"\")\n",
    "        super().begti()\n",
    "\n",
    "    def __init__(self, vardas: str, spalva: str, kojos=4, amzius=0, namo_turis_mm3=400):\n",
    "        super().__init__(vardas, spalva, kojos, amzius)\n",
    "        self.namo_turis_mm3 = namo_turis_mm3"
   ]
  },
  {
   "cell_type": "code",
   "execution_count": 30,
   "metadata": {},
   "outputs": [
    {
     "name": "stdout",
     "output_type": "stream",
     "text": [
      "Vezlys Turbo, spalva: Zalias, 4-kojis, 3 metu\n",
      "einu leeeetaiiii.. ai ne, begu\n",
      "namo turis: 600 mm3\n"
     ]
    }
   ],
   "source": [
    "vezlys = Vezlys(\"Turbo\", \"Zalias\", amzius=3, namo_turis_mm3=600)\n",
    "print(vezlys)\n",
    "vezlys.begti()\n",
    "print(\"namo turis:\", vezlys.namo_turis_mm3, \"mm3\")"
   ]
  },
  {
   "cell_type": "code",
   "execution_count": 20,
   "metadata": {},
   "outputs": [],
   "source": [
    "class Voras(Gyvunas):\n",
    "    def begti(self):\n",
    "        print(\"ropoju\")\n",
    "\n",
    "    def __init__(self, vardas: str, spalva: str, kojos=6, amzius=0):\n",
    "        super().__init__(vardas, spalva, kojos, amzius)"
   ]
  },
  {
   "cell_type": "code",
   "execution_count": 21,
   "metadata": {},
   "outputs": [
    {
     "name": "stdout",
     "output_type": "stream",
     "text": [
      "Voras Musiu Siaubas, spalva: Juodas, 6-kojis, 0 metu\n",
      "ropoju\n"
     ]
    }
   ],
   "source": [
    "musinis = Voras(\"Musiu Siaubas\", \"Juodas\")\n",
    "print(musinis)\n",
    "musinis.begti()"
   ]
  },
  {
   "cell_type": "code",
   "execution_count": 34,
   "metadata": {},
   "outputs": [
    {
     "name": "stdout",
     "output_type": "stream",
     "text": [
      "Voras 777, spalva: 16711680, 6-kojis, 9 metu\n"
     ]
    }
   ],
   "source": [
    "blogiukas = Voras(777, 0xFF0000, 6, 9)\n",
    "print(blogiukas)"
   ]
  },
  {
   "cell_type": "code",
   "execution_count": 35,
   "metadata": {},
   "outputs": [
    {
     "name": "stdout",
     "output_type": "stream",
     "text": [
      "Vezlys Slunkis, spalva: Kamofliazas, 4-kojis, 3 metu\n",
      "750\n"
     ]
    }
   ],
   "source": [
    "letulis = Vezlys(\"Slunkis\", \"Kamofliazas\", 4, 3, 750)\n",
    "print(letulis)\n",
    "print(letulis.namo_turis_mm3)"
   ]
  },
  {
   "cell_type": "code",
   "execution_count": 47,
   "metadata": {},
   "outputs": [
    {
     "name": "stdout",
     "output_type": "stream",
     "text": [
      "Pajamos:   3350.00\n",
      "Islaidos:   400.00\n",
      "Islaidos:   123.00\n",
      "Islaidos:   400.00\n",
      "Balansas:  2427.00\n"
     ]
    }
   ],
   "source": [
    "class Irasas:\n",
    "    def __init__(self, suma: float):\n",
    "        self.suma = suma\n",
    "\n",
    "class Pajamos(Irasas):\n",
    "    pass\n",
    "\n",
    "class Islaidos(Irasas):\n",
    "    pass\n",
    "\n",
    "biudzetas = []\n",
    "\n",
    "biudzetas.append(Pajamos(3350))\n",
    "biudzetas.append(Islaidos(400))\n",
    "biudzetas.append(Islaidos(123))\n",
    "biudzetas.append(Islaidos(400))\n",
    "\n",
    "balansas = 0\n",
    "for irasas in biudzetas:\n",
    "    if isinstance(irasas, Pajamos):\n",
    "        balansas += irasas.suma\n",
    "        print(f\"Pajamos:  {irasas.suma:8.2f}\")\n",
    "    if isinstance(irasas, Islaidos):\n",
    "        balansas -= irasas.suma\n",
    "        print(f\"Islaidos: {irasas.suma:8.2f}\")\n",
    "print(f\"Balansas: {balansas:8.2f}\")"
   ]
  },
  {
   "cell_type": "code",
   "execution_count": 51,
   "metadata": {},
   "outputs": [
    {
     "name": "stdout",
     "output_type": "stream",
     "text": [
      "<class 'list'>\n",
      "True\n",
      "True\n",
      "True\n",
      "False\n"
     ]
    }
   ],
   "source": [
    "print(type(biudzetas))\n",
    "# objekto priklausomybes klasei tikrinimas\n",
    "print(isinstance(biudzetas[0], Pajamos))\n",
    "print(isinstance(biudzetas[0], Irasas))\n",
    "# ---\n",
    "print(type(biudzetas[0]) is Pajamos)\n",
    "print(type(biudzetas[0]) is Irasas)"
   ]
  }
 ],
 "metadata": {
  "kernelspec": {
   "display_name": "venv",
   "language": "python",
   "name": "python3"
  },
  "language_info": {
   "codemirror_mode": {
    "name": "ipython",
    "version": 3
   },
   "file_extension": ".py",
   "mimetype": "text/x-python",
   "name": "python",
   "nbconvert_exporter": "python",
   "pygments_lexer": "ipython3",
   "version": "3.8.10 (default, Nov 14 2022, 12:59:47) \n[GCC 9.4.0]"
  },
  "orig_nbformat": 4,
  "vscode": {
   "interpreter": {
    "hash": "ae5517e200323c4e27d154c1fe0c18d79d70ea03233d618e57037785ffe1e95e"
   }
  }
 },
 "nbformat": 4,
 "nbformat_minor": 2
}
