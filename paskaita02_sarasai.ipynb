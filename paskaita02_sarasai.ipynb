{
 "cells": [
  {
   "attachments": {},
   "cell_type": "markdown",
   "metadata": {},
   "source": [
    "# sąrašai"
   ]
  },
  {
   "cell_type": "code",
   "execution_count": 2,
   "metadata": {},
   "outputs": [
    {
     "data": {
      "text/plain": [
       "[]"
      ]
     },
     "execution_count": 2,
     "metadata": {},
     "output_type": "execute_result"
    }
   ],
   "source": [
    "tuscias = []\n",
    "tuscias"
   ]
  },
  {
   "cell_type": "code",
   "execution_count": 3,
   "metadata": {},
   "outputs": [
    {
     "data": {
      "text/plain": [
       "[5, 7, 3, 1, 11, 9, 3, 13]"
      ]
     },
     "execution_count": 3,
     "metadata": {},
     "output_type": "execute_result"
    }
   ],
   "source": [
    "sarasas = [5, 7, 3, 1, 11, 9, 3, 13]\n",
    "sarasas"
   ]
  },
  {
   "cell_type": "code",
   "execution_count": 4,
   "metadata": {},
   "outputs": [
    {
     "data": {
      "text/plain": [
       "['labas', 'rytas', 'studentai']"
      ]
     },
     "execution_count": 4,
     "metadata": {},
     "output_type": "execute_result"
    }
   ],
   "source": [
    "zodziai = [\"labas\", \"rytas\", \"studentai\"]\n",
    "zodziai"
   ]
  },
  {
   "cell_type": "code",
   "execution_count": 5,
   "metadata": {},
   "outputs": [
    {
     "data": {
      "text/plain": [
       "'labas rytas studentai'"
      ]
     },
     "execution_count": 5,
     "metadata": {},
     "output_type": "execute_result"
    }
   ],
   "source": [
    "tarpas = \" \"\n",
    "tarpas.join(zodziai)"
   ]
  },
  {
   "cell_type": "code",
   "execution_count": 6,
   "metadata": {},
   "outputs": [
    {
     "data": {
      "text/plain": [
       "1"
      ]
     },
     "execution_count": 6,
     "metadata": {},
     "output_type": "execute_result"
    }
   ],
   "source": [
    "# ketvirtas sąrašo elementas\n",
    "sarasas[3]"
   ]
  },
  {
   "cell_type": "code",
   "execution_count": 7,
   "metadata": {},
   "outputs": [
    {
     "data": {
      "text/plain": [
       "'rytas'"
      ]
     },
     "execution_count": 7,
     "metadata": {},
     "output_type": "execute_result"
    }
   ],
   "source": [
    "zodziai[1]"
   ]
  },
  {
   "cell_type": "code",
   "execution_count": 8,
   "metadata": {},
   "outputs": [
    {
     "data": {
      "text/plain": [
       "[5, 7, 3, 1, 11, 9, 3, 13, 12]"
      ]
     },
     "execution_count": 8,
     "metadata": {},
     "output_type": "execute_result"
    }
   ],
   "source": [
    "# i sąrašą įtraukiam skaičių 12\n",
    "sarasas.append(12)\n",
    "sarasas"
   ]
  },
  {
   "cell_type": "code",
   "execution_count": 9,
   "metadata": {},
   "outputs": [
    {
     "data": {
      "text/plain": [
       "['labas', 'vakaras', 'studentai']"
      ]
     },
     "execution_count": 9,
     "metadata": {},
     "output_type": "execute_result"
    }
   ],
   "source": [
    "# sąrašo antrą elementą pakeičiam žodžiu \"vakaras\"\n",
    "zodziai[1] = \"vakaras\"\n",
    "zodziai"
   ]
  },
  {
   "cell_type": "code",
   "execution_count": 10,
   "metadata": {},
   "outputs": [
    {
     "data": {
      "text/plain": [
       "[5, 7, 3, 1, 9, 9, 3, 13, 12]"
      ]
     },
     "execution_count": 10,
     "metadata": {},
     "output_type": "execute_result"
    }
   ],
   "source": [
    "sarasas[4] = 9\n",
    "sarasas"
   ]
  },
  {
   "cell_type": "code",
   "execution_count": 11,
   "metadata": {},
   "outputs": [
    {
     "data": {
      "text/plain": [
       "7"
      ]
     },
     "execution_count": 11,
     "metadata": {},
     "output_type": "execute_result"
    }
   ],
   "source": [
    "# randam kur yra mus dominantis elementas sąraše\n",
    "sarasas.index(13)"
   ]
  },
  {
   "cell_type": "code",
   "execution_count": 12,
   "metadata": {},
   "outputs": [
    {
     "data": {
      "text/plain": [
       "13"
      ]
     },
     "execution_count": 12,
     "metadata": {},
     "output_type": "execute_result"
    }
   ],
   "source": [
    "# ištraukiam 8'ą elementą iš sąrašo\n",
    "sarasas.pop(7)"
   ]
  },
  {
   "cell_type": "code",
   "execution_count": 13,
   "metadata": {},
   "outputs": [
    {
     "data": {
      "text/plain": [
       "[5, 7, 3, 1, 9, 9, 3, 12]"
      ]
     },
     "execution_count": 13,
     "metadata": {},
     "output_type": "execute_result"
    }
   ],
   "source": [
    "sarasas"
   ]
  },
  {
   "cell_type": "code",
   "execution_count": 14,
   "metadata": {},
   "outputs": [
    {
     "data": {
      "text/plain": [
       "8"
      ]
     },
     "execution_count": 14,
     "metadata": {},
     "output_type": "execute_result"
    }
   ],
   "source": [
    "len(sarasas)"
   ]
  },
  {
   "cell_type": "code",
   "execution_count": 15,
   "metadata": {},
   "outputs": [
    {
     "data": {
      "text/plain": [
       "28"
      ]
     },
     "execution_count": 15,
     "metadata": {},
     "output_type": "execute_result"
    }
   ],
   "source": [
    "sakinys = \"o jau pietu pertrauka ateina\"\n",
    "len(sakinys)"
   ]
  },
  {
   "cell_type": "code",
   "execution_count": 16,
   "metadata": {},
   "outputs": [],
   "source": [
    "zodziai = sakinys.split()"
   ]
  },
  {
   "cell_type": "code",
   "execution_count": 17,
   "metadata": {},
   "outputs": [
    {
     "data": {
      "text/plain": [
       "'pertrauka'"
      ]
     },
     "execution_count": 17,
     "metadata": {},
     "output_type": "execute_result"
    }
   ],
   "source": [
    "zodziai[3]"
   ]
  },
  {
   "cell_type": "code",
   "execution_count": 18,
   "metadata": {},
   "outputs": [
    {
     "data": {
      "text/plain": [
       "'u'"
      ]
     },
     "execution_count": 18,
     "metadata": {},
     "output_type": "execute_result"
    }
   ],
   "source": [
    "zodziai[3][6]"
   ]
  },
  {
   "cell_type": "code",
   "execution_count": 19,
   "metadata": {},
   "outputs": [
    {
     "data": {
      "text/plain": [
       "list"
      ]
     },
     "execution_count": 19,
     "metadata": {},
     "output_type": "execute_result"
    }
   ],
   "source": [
    "type(sarasas)"
   ]
  },
  {
   "attachments": {},
   "cell_type": "markdown",
   "metadata": {},
   "source": [
    "# žodynai"
   ]
  },
  {
   "cell_type": "code",
   "execution_count": 1,
   "metadata": {},
   "outputs": [
    {
     "data": {
      "text/plain": [
       "dict"
      ]
     },
     "execution_count": 1,
     "metadata": {},
     "output_type": "execute_result"
    }
   ],
   "source": [
    "tz = {}\n",
    "type(tz)"
   ]
  },
  {
   "cell_type": "code",
   "execution_count": 8,
   "metadata": {},
   "outputs": [
    {
     "data": {
      "text/plain": [
       "{'kava': 7.99, 'sausainiai': 2.19, 'apelsinai': 1.59, 'ananasas': 3.06}"
      ]
     },
     "execution_count": 8,
     "metadata": {},
     "output_type": "execute_result"
    }
   ],
   "source": [
    "krepselis = {\n",
    "    \"kava\": 7.99,\n",
    "    \"sausainiai\": 2.19,\n",
    "    \"apelsinai\": 1.59,\n",
    "    \"ananasas\": 3.06,\n",
    "}\n",
    "krepselis"
   ]
  },
  {
   "cell_type": "code",
   "execution_count": 4,
   "metadata": {},
   "outputs": [
    {
     "data": {
      "text/plain": [
       "7.99"
      ]
     },
     "execution_count": 4,
     "metadata": {},
     "output_type": "execute_result"
    }
   ],
   "source": [
    "krepselis['kava']"
   ]
  },
  {
   "cell_type": "code",
   "execution_count": 9,
   "metadata": {},
   "outputs": [
    {
     "data": {
      "text/plain": [
       "{'kava': 7.99, 'sausainiai': 2.19, 'apelsinai': 1.59, 'ananasas': 3.57}"
      ]
     },
     "execution_count": 9,
     "metadata": {},
     "output_type": "execute_result"
    }
   ],
   "source": [
    "# keičiam žodyno įrašą\n",
    "krepselis['ananasas'] = 3.57\n",
    "krepselis"
   ]
  },
  {
   "cell_type": "code",
   "execution_count": 10,
   "metadata": {},
   "outputs": [
    {
     "data": {
      "text/plain": [
       "{'kava': 7.99,\n",
       " 'sausainiai': 2.19,\n",
       " 'apelsinai': 1.59,\n",
       " 'ananasas': 3.57,\n",
       " 'vanduo': 0.29}"
      ]
     },
     "execution_count": 10,
     "metadata": {},
     "output_type": "execute_result"
    }
   ],
   "source": [
    "# pridedam žodyno įrašą\n",
    "krepselis['vanduo'] = 0.29\n",
    "krepselis"
   ]
  },
  {
   "cell_type": "code",
   "execution_count": 11,
   "metadata": {},
   "outputs": [
    {
     "data": {
      "text/plain": [
       "{'kava': 7.99, 'apelsinai': 1.59, 'ananasas': 3.57, 'vanduo': 0.29}"
      ]
     },
     "execution_count": 11,
     "metadata": {},
     "output_type": "execute_result"
    }
   ],
   "source": [
    "# trinam žodyno įrašą\n",
    "del krepselis['sausainiai']\n",
    "krepselis"
   ]
  },
  {
   "cell_type": "code",
   "execution_count": 12,
   "metadata": {},
   "outputs": [
    {
     "data": {
      "text/plain": [
       "{'kava': 7.99,\n",
       " 'apelsinai': 1.59,\n",
       " 'ananasas': 3.57,\n",
       " 'vanduo': 0.29,\n",
       " \"chino'ai\": 2.3}"
      ]
     },
     "execution_count": 12,
     "metadata": {},
     "output_type": "execute_result"
    }
   ],
   "source": [
    "krepselis['chino\\'ai'] = 2.30\n",
    "krepselis"
   ]
  },
  {
   "cell_type": "code",
   "execution_count": 13,
   "metadata": {},
   "outputs": [
    {
     "data": {
      "text/plain": [
       "{'kava': 7.99,\n",
       " 'apelsinai': 1.59,\n",
       " 'ananasas': 3.57,\n",
       " 'vanduo': 0.29,\n",
       " \"chino'ai\": 2.3,\n",
       " 'mineralinis vanduo \"Vytautas\"': 1.05}"
      ]
     },
     "execution_count": 13,
     "metadata": {},
     "output_type": "execute_result"
    }
   ],
   "source": [
    "krepselis['mineralinis vanduo \"Vytautas\"'] = 1.05\n",
    "krepselis"
   ]
  },
  {
   "attachments": {},
   "cell_type": "markdown",
   "metadata": {},
   "source": [
    "# ciklai"
   ]
  },
  {
   "attachments": {},
   "cell_type": "markdown",
   "metadata": {},
   "source": [
    "## sąrašams"
   ]
  },
  {
   "cell_type": "code",
   "execution_count": 16,
   "metadata": {},
   "outputs": [
    {
     "name": "stdout",
     "output_type": "stream",
     "text": [
      "5\n",
      "7\n",
      "3\n",
      "1\n",
      "11\n",
      "9\n",
      "3\n",
      "13\n"
     ]
    }
   ],
   "source": [
    "for skaicius in sarasas:\n",
    "    print(skaicius)"
   ]
  },
  {
   "cell_type": "code",
   "execution_count": 5,
   "metadata": {},
   "outputs": [
    {
     "name": "stdout",
     "output_type": "stream",
     "text": [
      "tarpine suma: 0\n",
      "tarpine suma: 5\n",
      "tarpine suma: 12\n",
      "tarpine suma: 15\n",
      "tarpine suma: 16\n",
      "tarpine suma: 27\n",
      "tarpine suma: 36\n",
      "tarpine suma: 39\n",
      "galutine suma: 52\n"
     ]
    }
   ],
   "source": [
    "suma = 0\n",
    "for skaicius in sarasas:\n",
    "    print('tarpine suma:', suma)\n",
    "    suma += skaicius\n",
    "print('galutine suma:', suma)"
   ]
  },
  {
   "attachments": {},
   "cell_type": "markdown",
   "metadata": {},
   "source": [
    "## žodynams"
   ]
  },
  {
   "cell_type": "code",
   "execution_count": 32,
   "metadata": {},
   "outputs": [],
   "source": [
    "krepselis['kavos aparatas'] = 359.19"
   ]
  },
  {
   "cell_type": "code",
   "execution_count": 39,
   "metadata": {},
   "outputs": [
    {
     "name": "stdout",
     "output_type": "stream",
     "text": [
      "kava                               :   7.99\n",
      "apelsinai                          :   1.59\n",
      "ananasas                           :   3.57\n",
      "vanduo                             :   0.29\n",
      "chino'ai                           :   2.30\n",
      "mineralinis vanduo \"Vytautas\"      :   1.05\n",
      "kavos aparatas                     : 359.19\n",
      "viso                               : 375.98\n"
     ]
    }
   ],
   "source": [
    "# ciklas per visus žodyno vienetų elementus\n",
    "suma = 0\n",
    "for preke, kaina in krepselis.items():\n",
    "    print(f\"{preke:35s}: {kaina:6.2f}\")\n",
    "    suma += kaina\n",
    "print(f\"{'viso':35s}: {suma:6.2f}\")"
   ]
  },
  {
   "cell_type": "code",
   "execution_count": 40,
   "metadata": {},
   "outputs": [
    {
     "name": "stdout",
     "output_type": "stream",
     "text": [
      "preke: kava | kaina: 7.99\n",
      "preke: apelsinai | kaina: 1.59\n",
      "preke: ananasas | kaina: 3.57\n",
      "preke: vanduo | kaina: 0.29\n",
      "preke: chino'ai | kaina: 2.3\n",
      "preke: mineralinis vanduo \"Vytautas\" | kaina: 1.05\n",
      "preke: kavos aparatas | kaina: 359.19\n"
     ]
    }
   ],
   "source": [
    "for preke in krepselis:\n",
    "    print('preke:', preke, '| kaina:', krepselis[preke])"
   ]
  },
  {
   "cell_type": "code",
   "execution_count": 42,
   "metadata": {},
   "outputs": [
    {
     "name": "stdout",
     "output_type": "stream",
     "text": [
      "375.98\n"
     ]
    }
   ],
   "source": [
    "suma = 0\n",
    "for kaina in krepselis.values():\n",
    "    suma += kaina\n",
    "print(suma)"
   ]
  },
  {
   "attachments": {},
   "cell_type": "markdown",
   "metadata": {},
   "source": [
    "## range funkcija"
   ]
  },
  {
   "cell_type": "code",
   "execution_count": 43,
   "metadata": {},
   "outputs": [
    {
     "name": "stdout",
     "output_type": "stream",
     "text": [
      "1\n",
      "2\n",
      "3\n",
      "4\n",
      "5\n",
      "6\n",
      "7\n",
      "8\n",
      "9\n",
      "10\n"
     ]
    }
   ],
   "source": [
    "for skaicius in range(1, 11):\n",
    "    print(skaicius)"
   ]
  },
  {
   "cell_type": "code",
   "execution_count": 44,
   "metadata": {},
   "outputs": [
    {
     "name": "stdout",
     "output_type": "stream",
     "text": [
      "3\n",
      "6\n",
      "9\n",
      "12\n",
      "15\n",
      "18\n",
      "21\n",
      "24\n",
      "27\n",
      "30\n"
     ]
    }
   ],
   "source": [
    "for skaicius in range(3, 31, 3):\n",
    "    print(skaicius)"
   ]
  },
  {
   "cell_type": "code",
   "execution_count": 46,
   "metadata": {},
   "outputs": [
    {
     "name": "stdout",
     "output_type": "stream",
     "text": [
      "2 * 2 = 4\n",
      "4 * 4 = 16\n",
      "16 * 6 = 96\n",
      "96 * 8 = 768\n",
      "768 * 10 = 7680\n"
     ]
    }
   ],
   "source": [
    "tarpinis = 2\n",
    "for skaicius in range(2, 11, 2):\n",
    "    print(f\"{tarpinis} * {skaicius} = \", end=\"\")\n",
    "    tarpinis *= skaicius\n",
    "    print(tarpinis)\n"
   ]
  },
  {
   "cell_type": "code",
   "execution_count": 47,
   "metadata": {},
   "outputs": [
    {
     "name": "stdout",
     "output_type": "stream",
     "text": [
      "1980\n",
      "1981\n",
      "1982\n",
      "1983\n",
      "1984\n",
      "1985\n",
      "1986\n",
      "1987\n",
      "1988\n",
      "1989\n",
      "1990\n",
      "1991\n",
      "1992\n",
      "1993\n",
      "1994\n",
      "1995\n",
      "1996\n",
      "1997\n",
      "1998\n",
      "1999\n",
      "2000\n",
      "2001\n",
      "2002\n",
      "2003\n",
      "2004\n",
      "2005\n",
      "2006\n",
      "2007\n",
      "2008\n",
      "2009\n",
      "2010\n",
      "2011\n",
      "2012\n",
      "2013\n",
      "2014\n",
      "2015\n",
      "2016\n",
      "2017\n",
      "2018\n",
      "2019\n",
      "2020\n",
      "2021\n",
      "2022\n"
     ]
    }
   ],
   "source": [
    "for metai in range(1980, 2023):\n",
    "    print(metai)"
   ]
  },
  {
   "cell_type": "code",
   "execution_count": 48,
   "metadata": {},
   "outputs": [
    {
     "name": "stdout",
     "output_type": "stream",
     "text": [
      "-5\n",
      "-4\n",
      "-3\n",
      "-2\n",
      "-1\n",
      "0\n",
      "1\n",
      "2\n",
      "3\n",
      "4\n",
      "5\n"
     ]
    }
   ],
   "source": [
    "for skaicius in range(-5, 6):\n",
    "    print(skaicius)"
   ]
  },
  {
   "cell_type": "code",
   "execution_count": 49,
   "metadata": {},
   "outputs": [
    {
     "name": "stdout",
     "output_type": "stream",
     "text": [
      "2022\n",
      "2021\n",
      "2020\n",
      "2019\n",
      "2018\n",
      "2017\n",
      "2016\n",
      "2015\n",
      "2014\n",
      "2013\n",
      "2012\n",
      "2011\n",
      "2010\n",
      "2009\n",
      "2008\n",
      "2007\n",
      "2006\n",
      "2005\n",
      "2004\n",
      "2003\n",
      "2002\n",
      "2001\n",
      "2000\n"
     ]
    }
   ],
   "source": [
    "for metai in range(2022, 1999, -1):\n",
    "    print(metai)"
   ]
  },
  {
   "attachments": {},
   "cell_type": "markdown",
   "metadata": {},
   "source": [
    "## while ciklai"
   ]
  },
  {
   "cell_type": "code",
   "execution_count": 50,
   "metadata": {},
   "outputs": [
    {
     "name": "stdout",
     "output_type": "stream",
     "text": [
      "5\n",
      "4\n",
      "3\n",
      "2\n",
      "1\n"
     ]
    }
   ],
   "source": [
    "skaicius = 5\n",
    "while skaicius > 0:\n",
    "    print(skaicius)\n",
    "    skaicius -= 1"
   ]
  },
  {
   "cell_type": "code",
   "execution_count": 51,
   "metadata": {},
   "outputs": [
    {
     "name": "stdout",
     "output_type": "stream",
     "text": [
      "skaicius pries padidinima: 0\n",
      "padidintas skaicius: 2\n",
      "skaicius pries padidinima: 2\n",
      "padidintas skaicius: 4\n",
      "skaicius pries padidinima: 4\n",
      "padidintas skaicius: 6\n",
      "skaicius pries padidinima: 6\n",
      "padidintas skaicius: 8\n",
      "skaicius pries padidinima: 8\n",
      "padidintas skaicius: 10\n"
     ]
    }
   ],
   "source": [
    "skaicius = 0\n",
    "while skaicius < 10:\n",
    "    print('skaicius pries padidinima:', skaicius)\n",
    "    skaicius += 2\n",
    "    print('padidintas skaicius:', skaicius)\n"
   ]
  },
  {
   "cell_type": "code",
   "execution_count": 52,
   "metadata": {},
   "outputs": [
    {
     "name": "stdout",
     "output_type": "stream",
     "text": [
      "-2\n",
      "-1\n",
      "0\n",
      "1\n",
      "2\n",
      "3\n",
      "4\n",
      "5\n",
      "6\n",
      "7\n",
      "8\n",
      "9\n",
      "10\n",
      "11\n",
      "12\n",
      "13\n",
      "14\n",
      "15\n",
      "16\n",
      "17\n"
     ]
    }
   ],
   "source": [
    "for skaicius in range(-2, 50):\n",
    "    print(skaicius)\n",
    "    if skaicius != 0 and skaicius % 17 == 0:\n",
    "        break\n"
   ]
  },
  {
   "cell_type": "code",
   "execution_count": 53,
   "metadata": {},
   "outputs": [
    {
     "name": "stdout",
     "output_type": "stream",
     "text": [
      "1\n",
      "3\n",
      "5\n",
      "7\n",
      "9\n"
     ]
    }
   ],
   "source": [
    "for skaicius in range(0, 11):\n",
    "    if skaicius % 2 == 0:\n",
    "        continue\n",
    "    print(skaicius)\n"
   ]
  },
  {
   "cell_type": "code",
   "execution_count": 55,
   "metadata": {},
   "outputs": [
    {
     "name": "stdout",
     "output_type": "stream",
     "text": [
      "1\n",
      "2\n",
      "3\n",
      "4\n",
      "5\n",
      "6\n",
      "saugiklis išmuštas\n"
     ]
    }
   ],
   "source": [
    "saugiklis = 5\n",
    "for skaicius in range(1, 9):\n",
    "    print(skaicius)\n",
    "    if skaicius > saugiklis:\n",
    "        print('saugiklis išmuštas')\n",
    "        break\n",
    "else:\n",
    "    print('ciklas sėkmingai prasuktas')\n"
   ]
  },
  {
   "cell_type": "code",
   "execution_count": 59,
   "metadata": {},
   "outputs": [
    {
     "data": {
      "text/plain": [
       "[13, 11, 9, 7, 5, 3, 3, 1]"
      ]
     },
     "execution_count": 59,
     "metadata": {},
     "output_type": "execute_result"
    }
   ],
   "source": [
    "sarasas.reverse()\n",
    "sarasas"
   ]
  },
  {
   "cell_type": "code",
   "execution_count": 62,
   "metadata": {},
   "outputs": [
    {
     "data": {
      "text/plain": [
       "[13, 11, 9, 7, 5, 3, 3, 1]"
      ]
     },
     "execution_count": 62,
     "metadata": {},
     "output_type": "execute_result"
    }
   ],
   "source": [
    "sarasas.sort(reverse=True)\n",
    "sarasas"
   ]
  }
 ],
 "metadata": {
  "kernelspec": {
   "display_name": "venv",
   "language": "python",
   "name": "python3"
  },
  "language_info": {
   "codemirror_mode": {
    "name": "ipython",
    "version": 3
   },
   "file_extension": ".py",
   "mimetype": "text/x-python",
   "name": "python",
   "nbconvert_exporter": "python",
   "pygments_lexer": "ipython3",
   "version": "3.8.10"
  },
  "orig_nbformat": 4,
  "vscode": {
   "interpreter": {
    "hash": "ae5517e200323c4e27d154c1fe0c18d79d70ea03233d618e57037785ffe1e95e"
   }
  }
 },
 "nbformat": 4,
 "nbformat_minor": 2
}
